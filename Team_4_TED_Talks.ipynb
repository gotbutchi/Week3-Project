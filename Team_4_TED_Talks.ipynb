{
  "nbformat": 4,
  "nbformat_minor": 0,
  "metadata": {
    "kernelspec": {
      "display_name": "Python 3",
      "language": "python",
      "name": "python3"
    },
    "language_info": {
      "codemirror_mode": {
        "name": "ipython",
        "version": 3
      },
      "file_extension": ".py",
      "mimetype": "text/x-python",
      "name": "python",
      "nbconvert_exporter": "python",
      "pygments_lexer": "ipython3",
      "version": "3.7.3"
    },
    "colab": {
      "name": "Team 4 - TED Talks.ipynb",
      "provenance": [],
      "collapsed_sections": []
    }
  },
  "cells": [
    {
      "cell_type": "markdown",
      "metadata": {
        "id": "DdnRI3CXg0aK",
        "colab_type": "text"
      },
      "source": [
        "# Team 4 (Secati - TED Talks \n",
        "\n",
        "![](https://psmarketingimages.s3.amazonaws.com/blog/wp-content/uploads/2017/04/23103819/TED-Talks-for-Small-Business-and-Entrepreneurs.jpg)\n"
      ]
    },
    {
      "cell_type": "markdown",
      "metadata": {
        "id": "-ybkN4dPvM3B",
        "colab_type": "text"
      },
      "source": [
        "## What is our Data about?\n",
        "\n",
        "These datasets contain information about all audio-video recordings of TED Talks uploaded to the official TED.com website until September 21st, 2017. The TED main dataset contains information about all talks including number of views, number of comments, descriptions, speakers and titles. The TED transcripts dataset contains the transcripts for all talks available on TED.com."
      ]
    },
    {
      "cell_type": "markdown",
      "metadata": {
        "id": "jKZUwPHixPmZ",
        "colab_type": "text"
      },
      "source": [
        "### A lot goes into researching and creating a TED Talk.\n",
        "Most TED Talks are edited, lightly but carefully. TED typically remove the first few sentences of warmup chatter, and excessive ums and uhs — but they won't distort the speaker's meaning with their edit.\n",
        "It takes one of \btheir pro video editors about a full day to edit an 18-minute TED Talk.\n",
        "Almost every TED Talk hosted on TED.com has full subtitles and a snazzy clickable time-coded transcript.\n",
        "While some of your favorite TED Talks were shot with multiple cameras — up to nine — others are filmed very simply. Next time you watch, count the different shots."
      ]
    },
    {
      "cell_type": "markdown",
      "metadata": {
        "id": "qbMfCYDGpanw",
        "colab_type": "text"
      },
      "source": [
        "### Understanding the data:\n",
        "- comments (int): The number of first level comments made on the talk\n",
        "- description (str): A blurb of what the talk is about\n",
        "- duration (int): The duration of the talk in seconds\n",
        "- event (str): The TED/TEDx event where the talk took place\n",
        "- film_date (int): The Unix timestamp of the filming\n",
        "- languages (int): The number of languages in which the talk is available\n",
        "- main_speaker (str): The first named speaker of the talk\n",
        "- name (str): The official name of the TED Talk. Includes the title and the speaker.\n",
        "- num_speaker (int): The number of speakers in the talk\n",
        "- published_date (int): The Unix timestamp for the publication of the talk on TED.com\n",
        "- ratings (str): A stringified dictionary of the various ratings given to the - talk (inspiring, fascinating, jaw dropping, etc.)\n",
        "- related_talks (str): A list of dictionaries of recommended talks to watch next\n",
        "- speaker_occupation (str): The occupation of the main speaker\n",
        "- tags (str): The themes associated with the talk\n",
        "- title (str): The title of the talk\n",
        "- url (str): The URL of the talk\n",
        "- views (int): The number of views on the talk"
      ]
    },
    {
      "cell_type": "markdown",
      "metadata": {
        "id": "S65tyEDWEU-5",
        "colab_type": "text"
      },
      "source": [
        "## Audience\n",
        "\n",
        "\n",
        "1. Media Head\n",
        "2. TED-talk Organizers\n",
        "3. Event Organizers\n"
      ]
    },
    {
      "cell_type": "markdown",
      "metadata": {
        "id": "StBaSAhzXyDc",
        "colab_type": "text"
      },
      "source": [
        "## Usage for the Audience\n",
        "- Create/Explore more topics that haven been cover yet on Ted talks\n",
        "- Understand how to increase number of View, Comments, Ratings of Ted talks\n",
        "- Understand which places/time/duration/event to organize the Ted talks\n",
        "- Prediction of the view for future Ted talks (Understand how much investment should be spend on)"
      ]
    },
    {
      "cell_type": "markdown",
      "metadata": {
        "id": "pnodmFqFXF_k",
        "colab_type": "text"
      },
      "source": [
        "## Expectation :\n",
        "+ Build a content recommendation for TED\n",
        "  - Create a vector representation of each description\n",
        "  - Create a similarity matrix for the vector representation created above\n",
        "  - For each talk, based on some similarity metric, select 4 most similar talks\n",
        "\n",
        "+ View Prediction:\n",
        "\n",
        "  We measure our results based on views, comments, and positive ratings.\n",
        "\n",
        "  - Views: What gets people to hear an idea?\n",
        "  - Positive Ratings: What makes people react positively to the idea?\n",
        "  - Comments: What kinds of ideas produce discussions?\n",
        "  - We can also apply One-Hot-Encoding on the categorical attributes and get the data ready for training machine learning models. Then we print out the dimensions of the final dataset.\n",
        "\n",
        "\n",
        "+ Data analysis:\n",
        "  - Which video have the best/worst view?\n",
        "  - Which video have the best/worst rating?\n",
        "  - Positive/Negative index affect the quality of the talks?\n",
        "  - Event that have the most talks?\n",
        "  - Which talks provoke the most online discussion?\n",
        "  - What were the \"best\" events in TED history to attend?\n",
        "  - Which occupations deliver the funniest TED talks on average?\n",
        "  - Central tendencys of Views & Comments\n",
        "  - Correlation between Views & Comments per talk\n",
        "  - Correlation between Views & Languages per talk\n"
      ]
    },
    {
      "cell_type": "markdown",
      "metadata": {
        "id": "JTaU471FfuDd",
        "colab_type": "text"
      },
      "source": [
        "## Step 0: Setup the Environment"
      ]
    },
    {
      "cell_type": "code",
      "metadata": {
        "id": "YYLNHH7Vg0aQ",
        "colab_type": "code",
        "colab": {}
      },
      "source": [
        "import numpy as np\n",
        "import pandas as pd\n",
        "import seaborn as sns\n",
        "import datetime as dt\n",
        "import regex as re\n",
        "import matplotlib.pyplot as plt\n",
        "\n",
        "import warnings\n",
        "warnings.filterwarnings('ignore')\n",
        "\n",
        "%matplotlib inline\n",
        "sns.set_style(\"whitegrid\")\n",
        "plt.style.use(\"fivethirtyeight\")\n",
        "pd.set_option('display.max_rows', 100)"
      ],
      "execution_count": 0,
      "outputs": []
    },
    {
      "cell_type": "code",
      "metadata": {
        "id": "diUC_ZZ3JpWL",
        "colab_type": "code",
        "outputId": "8f2446ad-cbdc-4e99-d582-3877b65e6829",
        "colab": {
          "base_uri": "https://localhost:8080/",
          "height": 34
        }
      },
      "source": [
        "from google.colab import drive\n",
        "drive.mount('/content/gdrive')"
      ],
      "execution_count": 119,
      "outputs": [
        {
          "output_type": "stream",
          "text": [
            "Drive already mounted at /content/gdrive; to attempt to forcibly remount, call drive.mount(\"/content/gdrive\", force_remount=True).\n"
          ],
          "name": "stdout"
        }
      ]
    },
    {
      "cell_type": "markdown",
      "metadata": {
        "id": "pFuUgm71ctHW",
        "colab_type": "text"
      },
      "source": [
        "## Step 1: Read Data"
      ]
    },
    {
      "cell_type": "markdown",
      "metadata": {
        "id": "BgU53AxQgb_L",
        "colab_type": "text"
      },
      "source": [
        "### Create the main pandas data frame"
      ]
    },
    {
      "cell_type": "code",
      "metadata": {
        "id": "JAoUegUAHysz",
        "colab_type": "code",
        "colab": {}
      },
      "source": [
        "df = pd.read_csv('gdrive/My Drive/FTMLE - Tonga/Week_3/assignments/datasets/04-ted-talks/ted.csv')"
      ],
      "execution_count": 0,
      "outputs": []
    },
    {
      "cell_type": "markdown",
      "metadata": {
        "id": "L5_Kyj2TgTqf",
        "colab_type": "text"
      },
      "source": [
        "### Overview"
      ]
    },
    {
      "cell_type": "code",
      "metadata": {
        "id": "3X8V_mt9gSkv",
        "colab_type": "code",
        "outputId": "b240a498-812c-40c6-c866-643756426511",
        "colab": {
          "base_uri": "https://localhost:8080/",
          "height": 391
        }
      },
      "source": [
        "# Show a summary of the data\n",
        "df.info()"
      ],
      "execution_count": 121,
      "outputs": [
        {
          "output_type": "stream",
          "text": [
            "<class 'pandas.core.frame.DataFrame'>\n",
            "RangeIndex: 2550 entries, 0 to 2549\n",
            "Data columns (total 17 columns):\n",
            "comments              2550 non-null int64\n",
            "description           2550 non-null object\n",
            "duration              2550 non-null int64\n",
            "event                 2550 non-null object\n",
            "film_date             2550 non-null int64\n",
            "languages             2550 non-null int64\n",
            "main_speaker          2550 non-null object\n",
            "name                  2550 non-null object\n",
            "num_speaker           2550 non-null int64\n",
            "published_date        2550 non-null int64\n",
            "ratings               2550 non-null object\n",
            "related_talks         2550 non-null object\n",
            "speaker_occupation    2544 non-null object\n",
            "tags                  2550 non-null object\n",
            "title                 2550 non-null object\n",
            "url                   2550 non-null object\n",
            "views                 2550 non-null int64\n",
            "dtypes: int64(7), object(10)\n",
            "memory usage: 338.8+ KB\n"
          ],
          "name": "stdout"
        }
      ]
    },
    {
      "cell_type": "code",
      "metadata": {
        "id": "SG_AKR7HSFNv",
        "colab_type": "code",
        "outputId": "50a83adf-36c8-4fd6-ad04-c312baeae758",
        "colab": {
          "base_uri": "https://localhost:8080/",
          "height": 598
        }
      },
      "source": [
        "df.head()"
      ],
      "execution_count": 122,
      "outputs": [
        {
          "output_type": "execute_result",
          "data": {
            "text/html": [
              "<div>\n",
              "<style scoped>\n",
              "    .dataframe tbody tr th:only-of-type {\n",
              "        vertical-align: middle;\n",
              "    }\n",
              "\n",
              "    .dataframe tbody tr th {\n",
              "        vertical-align: top;\n",
              "    }\n",
              "\n",
              "    .dataframe thead th {\n",
              "        text-align: right;\n",
              "    }\n",
              "</style>\n",
              "<table border=\"1\" class=\"dataframe\">\n",
              "  <thead>\n",
              "    <tr style=\"text-align: right;\">\n",
              "      <th></th>\n",
              "      <th>comments</th>\n",
              "      <th>description</th>\n",
              "      <th>duration</th>\n",
              "      <th>event</th>\n",
              "      <th>film_date</th>\n",
              "      <th>languages</th>\n",
              "      <th>main_speaker</th>\n",
              "      <th>name</th>\n",
              "      <th>num_speaker</th>\n",
              "      <th>published_date</th>\n",
              "      <th>ratings</th>\n",
              "      <th>related_talks</th>\n",
              "      <th>speaker_occupation</th>\n",
              "      <th>tags</th>\n",
              "      <th>title</th>\n",
              "      <th>url</th>\n",
              "      <th>views</th>\n",
              "    </tr>\n",
              "  </thead>\n",
              "  <tbody>\n",
              "    <tr>\n",
              "      <th>0</th>\n",
              "      <td>4553</td>\n",
              "      <td>Sir Ken Robinson makes an entertaining and pro...</td>\n",
              "      <td>1164</td>\n",
              "      <td>TED2006</td>\n",
              "      <td>1140825600</td>\n",
              "      <td>60</td>\n",
              "      <td>Ken Robinson</td>\n",
              "      <td>Ken Robinson: Do schools kill creativity?</td>\n",
              "      <td>1</td>\n",
              "      <td>1151367060</td>\n",
              "      <td>[{'id': 7, 'name': 'Funny', 'count': 19645}, {...</td>\n",
              "      <td>[{'id': 865, 'hero': 'https://pe.tedcdn.com/im...</td>\n",
              "      <td>Author/educator</td>\n",
              "      <td>['children', 'creativity', 'culture', 'dance',...</td>\n",
              "      <td>Do schools kill creativity?</td>\n",
              "      <td>https://www.ted.com/talks/ken_robinson_says_sc...</td>\n",
              "      <td>47227110</td>\n",
              "    </tr>\n",
              "    <tr>\n",
              "      <th>1</th>\n",
              "      <td>265</td>\n",
              "      <td>With the same humor and humanity he exuded in ...</td>\n",
              "      <td>977</td>\n",
              "      <td>TED2006</td>\n",
              "      <td>1140825600</td>\n",
              "      <td>43</td>\n",
              "      <td>Al Gore</td>\n",
              "      <td>Al Gore: Averting the climate crisis</td>\n",
              "      <td>1</td>\n",
              "      <td>1151367060</td>\n",
              "      <td>[{'id': 7, 'name': 'Funny', 'count': 544}, {'i...</td>\n",
              "      <td>[{'id': 243, 'hero': 'https://pe.tedcdn.com/im...</td>\n",
              "      <td>Climate advocate</td>\n",
              "      <td>['alternative energy', 'cars', 'climate change...</td>\n",
              "      <td>Averting the climate crisis</td>\n",
              "      <td>https://www.ted.com/talks/al_gore_on_averting_...</td>\n",
              "      <td>3200520</td>\n",
              "    </tr>\n",
              "    <tr>\n",
              "      <th>2</th>\n",
              "      <td>124</td>\n",
              "      <td>New York Times columnist David Pogue takes aim...</td>\n",
              "      <td>1286</td>\n",
              "      <td>TED2006</td>\n",
              "      <td>1140739200</td>\n",
              "      <td>26</td>\n",
              "      <td>David Pogue</td>\n",
              "      <td>David Pogue: Simplicity sells</td>\n",
              "      <td>1</td>\n",
              "      <td>1151367060</td>\n",
              "      <td>[{'id': 7, 'name': 'Funny', 'count': 964}, {'i...</td>\n",
              "      <td>[{'id': 1725, 'hero': 'https://pe.tedcdn.com/i...</td>\n",
              "      <td>Technology columnist</td>\n",
              "      <td>['computers', 'entertainment', 'interface desi...</td>\n",
              "      <td>Simplicity sells</td>\n",
              "      <td>https://www.ted.com/talks/david_pogue_says_sim...</td>\n",
              "      <td>1636292</td>\n",
              "    </tr>\n",
              "    <tr>\n",
              "      <th>3</th>\n",
              "      <td>200</td>\n",
              "      <td>In an emotionally charged talk, MacArthur-winn...</td>\n",
              "      <td>1116</td>\n",
              "      <td>TED2006</td>\n",
              "      <td>1140912000</td>\n",
              "      <td>35</td>\n",
              "      <td>Majora Carter</td>\n",
              "      <td>Majora Carter: Greening the ghetto</td>\n",
              "      <td>1</td>\n",
              "      <td>1151367060</td>\n",
              "      <td>[{'id': 3, 'name': 'Courageous', 'count': 760}...</td>\n",
              "      <td>[{'id': 1041, 'hero': 'https://pe.tedcdn.com/i...</td>\n",
              "      <td>Activist for environmental justice</td>\n",
              "      <td>['MacArthur grant', 'activism', 'business', 'c...</td>\n",
              "      <td>Greening the ghetto</td>\n",
              "      <td>https://www.ted.com/talks/majora_carter_s_tale...</td>\n",
              "      <td>1697550</td>\n",
              "    </tr>\n",
              "    <tr>\n",
              "      <th>4</th>\n",
              "      <td>593</td>\n",
              "      <td>You've never seen data presented like this. Wi...</td>\n",
              "      <td>1190</td>\n",
              "      <td>TED2006</td>\n",
              "      <td>1140566400</td>\n",
              "      <td>48</td>\n",
              "      <td>Hans Rosling</td>\n",
              "      <td>Hans Rosling: The best stats you've ever seen</td>\n",
              "      <td>1</td>\n",
              "      <td>1151440680</td>\n",
              "      <td>[{'id': 9, 'name': 'Ingenious', 'count': 3202}...</td>\n",
              "      <td>[{'id': 2056, 'hero': 'https://pe.tedcdn.com/i...</td>\n",
              "      <td>Global health expert; data visionary</td>\n",
              "      <td>['Africa', 'Asia', 'Google', 'demo', 'economic...</td>\n",
              "      <td>The best stats you've ever seen</td>\n",
              "      <td>https://www.ted.com/talks/hans_rosling_shows_t...</td>\n",
              "      <td>12005869</td>\n",
              "    </tr>\n",
              "  </tbody>\n",
              "</table>\n",
              "</div>"
            ],
            "text/plain": [
              "   comments  ...     views\n",
              "0      4553  ...  47227110\n",
              "1       265  ...   3200520\n",
              "2       124  ...   1636292\n",
              "3       200  ...   1697550\n",
              "4       593  ...  12005869\n",
              "\n",
              "[5 rows x 17 columns]"
            ]
          },
          "metadata": {
            "tags": []
          },
          "execution_count": 122
        }
      ]
    },
    {
      "cell_type": "code",
      "metadata": {
        "id": "PxjUThEXdAES",
        "colab_type": "code",
        "outputId": "0d305287-17ea-48f7-d86a-30565800475d",
        "colab": {
          "base_uri": "https://localhost:8080/",
          "height": 102
        }
      },
      "source": [
        "df.columns"
      ],
      "execution_count": 123,
      "outputs": [
        {
          "output_type": "execute_result",
          "data": {
            "text/plain": [
              "Index(['comments', 'description', 'duration', 'event', 'film_date',\n",
              "       'languages', 'main_speaker', 'name', 'num_speaker', 'published_date',\n",
              "       'ratings', 'related_talks', 'speaker_occupation', 'tags', 'title',\n",
              "       'url', 'views'],\n",
              "      dtype='object')"
            ]
          },
          "metadata": {
            "tags": []
          },
          "execution_count": 123
        }
      ]
    },
    {
      "cell_type": "code",
      "metadata": {
        "id": "9o_pbozmSFLl",
        "colab_type": "code",
        "outputId": "306477a1-1404-4455-e06f-8fad499985e4",
        "colab": {
          "base_uri": "https://localhost:8080/",
          "height": 34
        }
      },
      "source": [
        "df.shape"
      ],
      "execution_count": 124,
      "outputs": [
        {
          "output_type": "execute_result",
          "data": {
            "text/plain": [
              "(2550, 17)"
            ]
          },
          "metadata": {
            "tags": []
          },
          "execution_count": 124
        }
      ]
    },
    {
      "cell_type": "markdown",
      "metadata": {
        "id": "tKZpUuXluKPJ",
        "colab_type": "text"
      },
      "source": [
        "## Step 2: Cleaning the data"
      ]
    },
    {
      "cell_type": "code",
      "metadata": {
        "id": "s9QYlwl5e6Dz",
        "colab_type": "code",
        "outputId": "1e919e4c-4006-4e46-f396-45cab3eb8800",
        "colab": {
          "base_uri": "https://localhost:8080/",
          "height": 297
        }
      },
      "source": [
        "# Firstly take a brief glance into the data frame\n",
        "\n",
        "df.describe()"
      ],
      "execution_count": 125,
      "outputs": [
        {
          "output_type": "execute_result",
          "data": {
            "text/html": [
              "<div>\n",
              "<style scoped>\n",
              "    .dataframe tbody tr th:only-of-type {\n",
              "        vertical-align: middle;\n",
              "    }\n",
              "\n",
              "    .dataframe tbody tr th {\n",
              "        vertical-align: top;\n",
              "    }\n",
              "\n",
              "    .dataframe thead th {\n",
              "        text-align: right;\n",
              "    }\n",
              "</style>\n",
              "<table border=\"1\" class=\"dataframe\">\n",
              "  <thead>\n",
              "    <tr style=\"text-align: right;\">\n",
              "      <th></th>\n",
              "      <th>comments</th>\n",
              "      <th>duration</th>\n",
              "      <th>film_date</th>\n",
              "      <th>languages</th>\n",
              "      <th>num_speaker</th>\n",
              "      <th>published_date</th>\n",
              "      <th>views</th>\n",
              "    </tr>\n",
              "  </thead>\n",
              "  <tbody>\n",
              "    <tr>\n",
              "      <th>count</th>\n",
              "      <td>2550.000000</td>\n",
              "      <td>2550.000000</td>\n",
              "      <td>2.550000e+03</td>\n",
              "      <td>2550.000000</td>\n",
              "      <td>2550.000000</td>\n",
              "      <td>2.550000e+03</td>\n",
              "      <td>2.550000e+03</td>\n",
              "    </tr>\n",
              "    <tr>\n",
              "      <th>mean</th>\n",
              "      <td>191.562353</td>\n",
              "      <td>826.510196</td>\n",
              "      <td>1.321928e+09</td>\n",
              "      <td>27.326275</td>\n",
              "      <td>1.028235</td>\n",
              "      <td>1.343525e+09</td>\n",
              "      <td>1.698297e+06</td>\n",
              "    </tr>\n",
              "    <tr>\n",
              "      <th>std</th>\n",
              "      <td>282.315223</td>\n",
              "      <td>374.009138</td>\n",
              "      <td>1.197391e+08</td>\n",
              "      <td>9.563452</td>\n",
              "      <td>0.207705</td>\n",
              "      <td>9.464009e+07</td>\n",
              "      <td>2.498479e+06</td>\n",
              "    </tr>\n",
              "    <tr>\n",
              "      <th>min</th>\n",
              "      <td>2.000000</td>\n",
              "      <td>135.000000</td>\n",
              "      <td>7.464960e+07</td>\n",
              "      <td>0.000000</td>\n",
              "      <td>1.000000</td>\n",
              "      <td>1.151367e+09</td>\n",
              "      <td>5.044300e+04</td>\n",
              "    </tr>\n",
              "    <tr>\n",
              "      <th>25%</th>\n",
              "      <td>63.000000</td>\n",
              "      <td>577.000000</td>\n",
              "      <td>1.257466e+09</td>\n",
              "      <td>23.000000</td>\n",
              "      <td>1.000000</td>\n",
              "      <td>1.268463e+09</td>\n",
              "      <td>7.557928e+05</td>\n",
              "    </tr>\n",
              "    <tr>\n",
              "      <th>50%</th>\n",
              "      <td>118.000000</td>\n",
              "      <td>848.000000</td>\n",
              "      <td>1.333238e+09</td>\n",
              "      <td>28.000000</td>\n",
              "      <td>1.000000</td>\n",
              "      <td>1.340935e+09</td>\n",
              "      <td>1.124524e+06</td>\n",
              "    </tr>\n",
              "    <tr>\n",
              "      <th>75%</th>\n",
              "      <td>221.750000</td>\n",
              "      <td>1046.750000</td>\n",
              "      <td>1.412964e+09</td>\n",
              "      <td>33.000000</td>\n",
              "      <td>1.000000</td>\n",
              "      <td>1.423432e+09</td>\n",
              "      <td>1.700760e+06</td>\n",
              "    </tr>\n",
              "    <tr>\n",
              "      <th>max</th>\n",
              "      <td>6404.000000</td>\n",
              "      <td>5256.000000</td>\n",
              "      <td>1.503792e+09</td>\n",
              "      <td>72.000000</td>\n",
              "      <td>5.000000</td>\n",
              "      <td>1.506092e+09</td>\n",
              "      <td>4.722711e+07</td>\n",
              "    </tr>\n",
              "  </tbody>\n",
              "</table>\n",
              "</div>"
            ],
            "text/plain": [
              "          comments     duration  ...  published_date         views\n",
              "count  2550.000000  2550.000000  ...    2.550000e+03  2.550000e+03\n",
              "mean    191.562353   826.510196  ...    1.343525e+09  1.698297e+06\n",
              "std     282.315223   374.009138  ...    9.464009e+07  2.498479e+06\n",
              "min       2.000000   135.000000  ...    1.151367e+09  5.044300e+04\n",
              "25%      63.000000   577.000000  ...    1.268463e+09  7.557928e+05\n",
              "50%     118.000000   848.000000  ...    1.340935e+09  1.124524e+06\n",
              "75%     221.750000  1046.750000  ...    1.423432e+09  1.700760e+06\n",
              "max    6404.000000  5256.000000  ...    1.506092e+09  4.722711e+07\n",
              "\n",
              "[8 rows x 7 columns]"
            ]
          },
          "metadata": {
            "tags": []
          },
          "execution_count": 125
        }
      ]
    },
    {
      "cell_type": "markdown",
      "metadata": {
        "id": "b0kNQO4BqhZB",
        "colab_type": "text"
      },
      "source": [
        "### Set Index"
      ]
    },
    {
      "cell_type": "code",
      "metadata": {
        "id": "84prYeKeqpbO",
        "colab_type": "code",
        "outputId": "ef0b3abd-edad-4e90-920b-9fe71c16b741",
        "colab": {
          "base_uri": "https://localhost:8080/",
          "height": 629
        }
      },
      "source": [
        "# Id must be unique\n",
        "# So the number of unique values must be equal the number of rows\n",
        "# 2 methods:\n",
        "# df['column'].nunique() == df['column'].count() OR \n",
        "# df['column'].nunique() == df.shape[0]\n",
        "\n",
        "# However, this data frame does not have ID column, in order to improve data searching, we always need to create indexes for data lookup purpose. \n",
        "df.index = [i for i in range(1, len(df.values)+1)]\n",
        "df.index.name = 'ID'\n",
        "df.head()"
      ],
      "execution_count": 126,
      "outputs": [
        {
          "output_type": "execute_result",
          "data": {
            "text/html": [
              "<div>\n",
              "<style scoped>\n",
              "    .dataframe tbody tr th:only-of-type {\n",
              "        vertical-align: middle;\n",
              "    }\n",
              "\n",
              "    .dataframe tbody tr th {\n",
              "        vertical-align: top;\n",
              "    }\n",
              "\n",
              "    .dataframe thead th {\n",
              "        text-align: right;\n",
              "    }\n",
              "</style>\n",
              "<table border=\"1\" class=\"dataframe\">\n",
              "  <thead>\n",
              "    <tr style=\"text-align: right;\">\n",
              "      <th></th>\n",
              "      <th>comments</th>\n",
              "      <th>description</th>\n",
              "      <th>duration</th>\n",
              "      <th>event</th>\n",
              "      <th>film_date</th>\n",
              "      <th>languages</th>\n",
              "      <th>main_speaker</th>\n",
              "      <th>name</th>\n",
              "      <th>num_speaker</th>\n",
              "      <th>published_date</th>\n",
              "      <th>ratings</th>\n",
              "      <th>related_talks</th>\n",
              "      <th>speaker_occupation</th>\n",
              "      <th>tags</th>\n",
              "      <th>title</th>\n",
              "      <th>url</th>\n",
              "      <th>views</th>\n",
              "    </tr>\n",
              "    <tr>\n",
              "      <th>ID</th>\n",
              "      <th></th>\n",
              "      <th></th>\n",
              "      <th></th>\n",
              "      <th></th>\n",
              "      <th></th>\n",
              "      <th></th>\n",
              "      <th></th>\n",
              "      <th></th>\n",
              "      <th></th>\n",
              "      <th></th>\n",
              "      <th></th>\n",
              "      <th></th>\n",
              "      <th></th>\n",
              "      <th></th>\n",
              "      <th></th>\n",
              "      <th></th>\n",
              "      <th></th>\n",
              "    </tr>\n",
              "  </thead>\n",
              "  <tbody>\n",
              "    <tr>\n",
              "      <th>1</th>\n",
              "      <td>4553</td>\n",
              "      <td>Sir Ken Robinson makes an entertaining and pro...</td>\n",
              "      <td>1164</td>\n",
              "      <td>TED2006</td>\n",
              "      <td>1140825600</td>\n",
              "      <td>60</td>\n",
              "      <td>Ken Robinson</td>\n",
              "      <td>Ken Robinson: Do schools kill creativity?</td>\n",
              "      <td>1</td>\n",
              "      <td>1151367060</td>\n",
              "      <td>[{'id': 7, 'name': 'Funny', 'count': 19645}, {...</td>\n",
              "      <td>[{'id': 865, 'hero': 'https://pe.tedcdn.com/im...</td>\n",
              "      <td>Author/educator</td>\n",
              "      <td>['children', 'creativity', 'culture', 'dance',...</td>\n",
              "      <td>Do schools kill creativity?</td>\n",
              "      <td>https://www.ted.com/talks/ken_robinson_says_sc...</td>\n",
              "      <td>47227110</td>\n",
              "    </tr>\n",
              "    <tr>\n",
              "      <th>2</th>\n",
              "      <td>265</td>\n",
              "      <td>With the same humor and humanity he exuded in ...</td>\n",
              "      <td>977</td>\n",
              "      <td>TED2006</td>\n",
              "      <td>1140825600</td>\n",
              "      <td>43</td>\n",
              "      <td>Al Gore</td>\n",
              "      <td>Al Gore: Averting the climate crisis</td>\n",
              "      <td>1</td>\n",
              "      <td>1151367060</td>\n",
              "      <td>[{'id': 7, 'name': 'Funny', 'count': 544}, {'i...</td>\n",
              "      <td>[{'id': 243, 'hero': 'https://pe.tedcdn.com/im...</td>\n",
              "      <td>Climate advocate</td>\n",
              "      <td>['alternative energy', 'cars', 'climate change...</td>\n",
              "      <td>Averting the climate crisis</td>\n",
              "      <td>https://www.ted.com/talks/al_gore_on_averting_...</td>\n",
              "      <td>3200520</td>\n",
              "    </tr>\n",
              "    <tr>\n",
              "      <th>3</th>\n",
              "      <td>124</td>\n",
              "      <td>New York Times columnist David Pogue takes aim...</td>\n",
              "      <td>1286</td>\n",
              "      <td>TED2006</td>\n",
              "      <td>1140739200</td>\n",
              "      <td>26</td>\n",
              "      <td>David Pogue</td>\n",
              "      <td>David Pogue: Simplicity sells</td>\n",
              "      <td>1</td>\n",
              "      <td>1151367060</td>\n",
              "      <td>[{'id': 7, 'name': 'Funny', 'count': 964}, {'i...</td>\n",
              "      <td>[{'id': 1725, 'hero': 'https://pe.tedcdn.com/i...</td>\n",
              "      <td>Technology columnist</td>\n",
              "      <td>['computers', 'entertainment', 'interface desi...</td>\n",
              "      <td>Simplicity sells</td>\n",
              "      <td>https://www.ted.com/talks/david_pogue_says_sim...</td>\n",
              "      <td>1636292</td>\n",
              "    </tr>\n",
              "    <tr>\n",
              "      <th>4</th>\n",
              "      <td>200</td>\n",
              "      <td>In an emotionally charged talk, MacArthur-winn...</td>\n",
              "      <td>1116</td>\n",
              "      <td>TED2006</td>\n",
              "      <td>1140912000</td>\n",
              "      <td>35</td>\n",
              "      <td>Majora Carter</td>\n",
              "      <td>Majora Carter: Greening the ghetto</td>\n",
              "      <td>1</td>\n",
              "      <td>1151367060</td>\n",
              "      <td>[{'id': 3, 'name': 'Courageous', 'count': 760}...</td>\n",
              "      <td>[{'id': 1041, 'hero': 'https://pe.tedcdn.com/i...</td>\n",
              "      <td>Activist for environmental justice</td>\n",
              "      <td>['MacArthur grant', 'activism', 'business', 'c...</td>\n",
              "      <td>Greening the ghetto</td>\n",
              "      <td>https://www.ted.com/talks/majora_carter_s_tale...</td>\n",
              "      <td>1697550</td>\n",
              "    </tr>\n",
              "    <tr>\n",
              "      <th>5</th>\n",
              "      <td>593</td>\n",
              "      <td>You've never seen data presented like this. Wi...</td>\n",
              "      <td>1190</td>\n",
              "      <td>TED2006</td>\n",
              "      <td>1140566400</td>\n",
              "      <td>48</td>\n",
              "      <td>Hans Rosling</td>\n",
              "      <td>Hans Rosling: The best stats you've ever seen</td>\n",
              "      <td>1</td>\n",
              "      <td>1151440680</td>\n",
              "      <td>[{'id': 9, 'name': 'Ingenious', 'count': 3202}...</td>\n",
              "      <td>[{'id': 2056, 'hero': 'https://pe.tedcdn.com/i...</td>\n",
              "      <td>Global health expert; data visionary</td>\n",
              "      <td>['Africa', 'Asia', 'Google', 'demo', 'economic...</td>\n",
              "      <td>The best stats you've ever seen</td>\n",
              "      <td>https://www.ted.com/talks/hans_rosling_shows_t...</td>\n",
              "      <td>12005869</td>\n",
              "    </tr>\n",
              "  </tbody>\n",
              "</table>\n",
              "</div>"
            ],
            "text/plain": [
              "    comments  ...     views\n",
              "ID            ...          \n",
              "1       4553  ...  47227110\n",
              "2        265  ...   3200520\n",
              "3        124  ...   1636292\n",
              "4        200  ...   1697550\n",
              "5        593  ...  12005869\n",
              "\n",
              "[5 rows x 17 columns]"
            ]
          },
          "metadata": {
            "tags": []
          },
          "execution_count": 126
        }
      ]
    },
    {
      "cell_type": "markdown",
      "metadata": {
        "id": "TwdFQ6g0glvF",
        "colab_type": "text"
      },
      "source": [
        "### Check data duplication"
      ]
    },
    {
      "cell_type": "code",
      "metadata": {
        "id": "8yOVQUcnguWS",
        "colab_type": "code",
        "outputId": "1a937b21-9f1f-4926-ad8d-0553e89456ad",
        "colab": {
          "base_uri": "https://localhost:8080/",
          "height": 323
        }
      },
      "source": [
        "df.nunique()"
      ],
      "execution_count": 127,
      "outputs": [
        {
          "output_type": "execute_result",
          "data": {
            "text/plain": [
              "comments               559\n",
              "description           2550\n",
              "duration              1083\n",
              "event                  355\n",
              "film_date              735\n",
              "languages               66\n",
              "main_speaker          2156\n",
              "name                  2550\n",
              "num_speaker              5\n",
              "published_date        2490\n",
              "ratings               2550\n",
              "related_talks         2550\n",
              "speaker_occupation    1458\n",
              "tags                  2530\n",
              "title                 2550\n",
              "url                   2550\n",
              "views                 2550\n",
              "dtype: int64"
            ]
          },
          "metadata": {
            "tags": []
          },
          "execution_count": 127
        }
      ]
    },
    {
      "cell_type": "code",
      "metadata": {
        "id": "vRc-dD-suWMv",
        "colab_type": "code",
        "outputId": "7af2c28d-1eae-42cd-e016-88e4541c4e84",
        "colab": {
          "base_uri": "https://localhost:8080/",
          "height": 391
        }
      },
      "source": [
        "df.info()"
      ],
      "execution_count": 128,
      "outputs": [
        {
          "output_type": "stream",
          "text": [
            "<class 'pandas.core.frame.DataFrame'>\n",
            "Int64Index: 2550 entries, 1 to 2550\n",
            "Data columns (total 17 columns):\n",
            "comments              2550 non-null int64\n",
            "description           2550 non-null object\n",
            "duration              2550 non-null int64\n",
            "event                 2550 non-null object\n",
            "film_date             2550 non-null int64\n",
            "languages             2550 non-null int64\n",
            "main_speaker          2550 non-null object\n",
            "name                  2550 non-null object\n",
            "num_speaker           2550 non-null int64\n",
            "published_date        2550 non-null int64\n",
            "ratings               2550 non-null object\n",
            "related_talks         2550 non-null object\n",
            "speaker_occupation    2544 non-null object\n",
            "tags                  2550 non-null object\n",
            "title                 2550 non-null object\n",
            "url                   2550 non-null object\n",
            "views                 2550 non-null int64\n",
            "dtypes: int64(7), object(10)\n",
            "memory usage: 358.6+ KB\n"
          ],
          "name": "stdout"
        }
      ]
    },
    {
      "cell_type": "code",
      "metadata": {
        "id": "_OC_4Ryxr1mX",
        "colab_type": "code",
        "outputId": "6fe5f304-9a94-48a3-b6f8-daa1eea75796",
        "colab": {
          "base_uri": "https://localhost:8080/",
          "height": 1000
        }
      },
      "source": [
        "# It seems that there is no dubplicate at all, we can double-check just to be sure\n",
        "df.drop_duplicates(subset=None, keep=\"first\", inplace=False)"
      ],
      "execution_count": 129,
      "outputs": [
        {
          "output_type": "execute_result",
          "data": {
            "text/html": [
              "<div>\n",
              "<style scoped>\n",
              "    .dataframe tbody tr th:only-of-type {\n",
              "        vertical-align: middle;\n",
              "    }\n",
              "\n",
              "    .dataframe tbody tr th {\n",
              "        vertical-align: top;\n",
              "    }\n",
              "\n",
              "    .dataframe thead th {\n",
              "        text-align: right;\n",
              "    }\n",
              "</style>\n",
              "<table border=\"1\" class=\"dataframe\">\n",
              "  <thead>\n",
              "    <tr style=\"text-align: right;\">\n",
              "      <th></th>\n",
              "      <th>comments</th>\n",
              "      <th>description</th>\n",
              "      <th>duration</th>\n",
              "      <th>event</th>\n",
              "      <th>film_date</th>\n",
              "      <th>languages</th>\n",
              "      <th>main_speaker</th>\n",
              "      <th>name</th>\n",
              "      <th>num_speaker</th>\n",
              "      <th>published_date</th>\n",
              "      <th>ratings</th>\n",
              "      <th>related_talks</th>\n",
              "      <th>speaker_occupation</th>\n",
              "      <th>tags</th>\n",
              "      <th>title</th>\n",
              "      <th>url</th>\n",
              "      <th>views</th>\n",
              "    </tr>\n",
              "    <tr>\n",
              "      <th>ID</th>\n",
              "      <th></th>\n",
              "      <th></th>\n",
              "      <th></th>\n",
              "      <th></th>\n",
              "      <th></th>\n",
              "      <th></th>\n",
              "      <th></th>\n",
              "      <th></th>\n",
              "      <th></th>\n",
              "      <th></th>\n",
              "      <th></th>\n",
              "      <th></th>\n",
              "      <th></th>\n",
              "      <th></th>\n",
              "      <th></th>\n",
              "      <th></th>\n",
              "      <th></th>\n",
              "    </tr>\n",
              "  </thead>\n",
              "  <tbody>\n",
              "    <tr>\n",
              "      <th>1</th>\n",
              "      <td>4553</td>\n",
              "      <td>Sir Ken Robinson makes an entertaining and pro...</td>\n",
              "      <td>1164</td>\n",
              "      <td>TED2006</td>\n",
              "      <td>1140825600</td>\n",
              "      <td>60</td>\n",
              "      <td>Ken Robinson</td>\n",
              "      <td>Ken Robinson: Do schools kill creativity?</td>\n",
              "      <td>1</td>\n",
              "      <td>1151367060</td>\n",
              "      <td>[{'id': 7, 'name': 'Funny', 'count': 19645}, {...</td>\n",
              "      <td>[{'id': 865, 'hero': 'https://pe.tedcdn.com/im...</td>\n",
              "      <td>Author/educator</td>\n",
              "      <td>['children', 'creativity', 'culture', 'dance',...</td>\n",
              "      <td>Do schools kill creativity?</td>\n",
              "      <td>https://www.ted.com/talks/ken_robinson_says_sc...</td>\n",
              "      <td>47227110</td>\n",
              "    </tr>\n",
              "    <tr>\n",
              "      <th>2</th>\n",
              "      <td>265</td>\n",
              "      <td>With the same humor and humanity he exuded in ...</td>\n",
              "      <td>977</td>\n",
              "      <td>TED2006</td>\n",
              "      <td>1140825600</td>\n",
              "      <td>43</td>\n",
              "      <td>Al Gore</td>\n",
              "      <td>Al Gore: Averting the climate crisis</td>\n",
              "      <td>1</td>\n",
              "      <td>1151367060</td>\n",
              "      <td>[{'id': 7, 'name': 'Funny', 'count': 544}, {'i...</td>\n",
              "      <td>[{'id': 243, 'hero': 'https://pe.tedcdn.com/im...</td>\n",
              "      <td>Climate advocate</td>\n",
              "      <td>['alternative energy', 'cars', 'climate change...</td>\n",
              "      <td>Averting the climate crisis</td>\n",
              "      <td>https://www.ted.com/talks/al_gore_on_averting_...</td>\n",
              "      <td>3200520</td>\n",
              "    </tr>\n",
              "    <tr>\n",
              "      <th>3</th>\n",
              "      <td>124</td>\n",
              "      <td>New York Times columnist David Pogue takes aim...</td>\n",
              "      <td>1286</td>\n",
              "      <td>TED2006</td>\n",
              "      <td>1140739200</td>\n",
              "      <td>26</td>\n",
              "      <td>David Pogue</td>\n",
              "      <td>David Pogue: Simplicity sells</td>\n",
              "      <td>1</td>\n",
              "      <td>1151367060</td>\n",
              "      <td>[{'id': 7, 'name': 'Funny', 'count': 964}, {'i...</td>\n",
              "      <td>[{'id': 1725, 'hero': 'https://pe.tedcdn.com/i...</td>\n",
              "      <td>Technology columnist</td>\n",
              "      <td>['computers', 'entertainment', 'interface desi...</td>\n",
              "      <td>Simplicity sells</td>\n",
              "      <td>https://www.ted.com/talks/david_pogue_says_sim...</td>\n",
              "      <td>1636292</td>\n",
              "    </tr>\n",
              "    <tr>\n",
              "      <th>4</th>\n",
              "      <td>200</td>\n",
              "      <td>In an emotionally charged talk, MacArthur-winn...</td>\n",
              "      <td>1116</td>\n",
              "      <td>TED2006</td>\n",
              "      <td>1140912000</td>\n",
              "      <td>35</td>\n",
              "      <td>Majora Carter</td>\n",
              "      <td>Majora Carter: Greening the ghetto</td>\n",
              "      <td>1</td>\n",
              "      <td>1151367060</td>\n",
              "      <td>[{'id': 3, 'name': 'Courageous', 'count': 760}...</td>\n",
              "      <td>[{'id': 1041, 'hero': 'https://pe.tedcdn.com/i...</td>\n",
              "      <td>Activist for environmental justice</td>\n",
              "      <td>['MacArthur grant', 'activism', 'business', 'c...</td>\n",
              "      <td>Greening the ghetto</td>\n",
              "      <td>https://www.ted.com/talks/majora_carter_s_tale...</td>\n",
              "      <td>1697550</td>\n",
              "    </tr>\n",
              "    <tr>\n",
              "      <th>5</th>\n",
              "      <td>593</td>\n",
              "      <td>You've never seen data presented like this. Wi...</td>\n",
              "      <td>1190</td>\n",
              "      <td>TED2006</td>\n",
              "      <td>1140566400</td>\n",
              "      <td>48</td>\n",
              "      <td>Hans Rosling</td>\n",
              "      <td>Hans Rosling: The best stats you've ever seen</td>\n",
              "      <td>1</td>\n",
              "      <td>1151440680</td>\n",
              "      <td>[{'id': 9, 'name': 'Ingenious', 'count': 3202}...</td>\n",
              "      <td>[{'id': 2056, 'hero': 'https://pe.tedcdn.com/i...</td>\n",
              "      <td>Global health expert; data visionary</td>\n",
              "      <td>['Africa', 'Asia', 'Google', 'demo', 'economic...</td>\n",
              "      <td>The best stats you've ever seen</td>\n",
              "      <td>https://www.ted.com/talks/hans_rosling_shows_t...</td>\n",
              "      <td>12005869</td>\n",
              "    </tr>\n",
              "    <tr>\n",
              "      <th>...</th>\n",
              "      <td>...</td>\n",
              "      <td>...</td>\n",
              "      <td>...</td>\n",
              "      <td>...</td>\n",
              "      <td>...</td>\n",
              "      <td>...</td>\n",
              "      <td>...</td>\n",
              "      <td>...</td>\n",
              "      <td>...</td>\n",
              "      <td>...</td>\n",
              "      <td>...</td>\n",
              "      <td>...</td>\n",
              "      <td>...</td>\n",
              "      <td>...</td>\n",
              "      <td>...</td>\n",
              "      <td>...</td>\n",
              "      <td>...</td>\n",
              "    </tr>\n",
              "    <tr>\n",
              "      <th>2546</th>\n",
              "      <td>17</td>\n",
              "      <td>Between 2008 and 2016, the United States depor...</td>\n",
              "      <td>476</td>\n",
              "      <td>TED2017</td>\n",
              "      <td>1496707200</td>\n",
              "      <td>4</td>\n",
              "      <td>Duarte Geraldino</td>\n",
              "      <td>Duarte Geraldino: What we're missing in the de...</td>\n",
              "      <td>1</td>\n",
              "      <td>1505851216</td>\n",
              "      <td>[{'id': 3, 'name': 'Courageous', 'count': 24},...</td>\n",
              "      <td>[{'id': 2596, 'hero': 'https://pe.tedcdn.com/i...</td>\n",
              "      <td>Journalist</td>\n",
              "      <td>['TED Residency', 'United States', 'community'...</td>\n",
              "      <td>What we're missing in the debate about immigra...</td>\n",
              "      <td>https://www.ted.com/talks/duarte_geraldino_wha...</td>\n",
              "      <td>450430</td>\n",
              "    </tr>\n",
              "    <tr>\n",
              "      <th>2547</th>\n",
              "      <td>6</td>\n",
              "      <td>How can you study Mars without a spaceship? He...</td>\n",
              "      <td>290</td>\n",
              "      <td>TED2017</td>\n",
              "      <td>1492992000</td>\n",
              "      <td>3</td>\n",
              "      <td>Armando Azua-Bustos</td>\n",
              "      <td>Armando Azua-Bustos: The most Martian place on...</td>\n",
              "      <td>1</td>\n",
              "      <td>1505919737</td>\n",
              "      <td>[{'id': 22, 'name': 'Fascinating', 'count': 32...</td>\n",
              "      <td>[{'id': 2491, 'hero': 'https://pe.tedcdn.com/i...</td>\n",
              "      <td>Astrobiologist</td>\n",
              "      <td>['Mars', 'South America', 'TED Fellows', 'astr...</td>\n",
              "      <td>The most Martian place on Earth</td>\n",
              "      <td>https://www.ted.com/talks/armando_azua_bustos_...</td>\n",
              "      <td>417470</td>\n",
              "    </tr>\n",
              "    <tr>\n",
              "      <th>2548</th>\n",
              "      <td>10</td>\n",
              "      <td>Science fiction visions of the future show us ...</td>\n",
              "      <td>651</td>\n",
              "      <td>TED2017</td>\n",
              "      <td>1492992000</td>\n",
              "      <td>1</td>\n",
              "      <td>Radhika Nagpal</td>\n",
              "      <td>Radhika Nagpal: What intelligent machines can ...</td>\n",
              "      <td>1</td>\n",
              "      <td>1506006095</td>\n",
              "      <td>[{'id': 1, 'name': 'Beautiful', 'count': 14}, ...</td>\n",
              "      <td>[{'id': 2346, 'hero': 'https://pe.tedcdn.com/i...</td>\n",
              "      <td>Robotics engineer</td>\n",
              "      <td>['AI', 'ants', 'fish', 'future', 'innovation',...</td>\n",
              "      <td>What intelligent machines can learn from a sch...</td>\n",
              "      <td>https://www.ted.com/talks/radhika_nagpal_what_...</td>\n",
              "      <td>375647</td>\n",
              "    </tr>\n",
              "    <tr>\n",
              "      <th>2549</th>\n",
              "      <td>32</td>\n",
              "      <td>In an unmissable talk about race and politics ...</td>\n",
              "      <td>1100</td>\n",
              "      <td>TEDxMileHigh</td>\n",
              "      <td>1499472000</td>\n",
              "      <td>1</td>\n",
              "      <td>Theo E.J. Wilson</td>\n",
              "      <td>Theo E.J. Wilson: A black man goes undercover ...</td>\n",
              "      <td>1</td>\n",
              "      <td>1506024042</td>\n",
              "      <td>[{'id': 11, 'name': 'Longwinded', 'count': 3},...</td>\n",
              "      <td>[{'id': 2512, 'hero': 'https://pe.tedcdn.com/i...</td>\n",
              "      <td>Public intellectual</td>\n",
              "      <td>['Internet', 'TEDx', 'United States', 'communi...</td>\n",
              "      <td>A black man goes undercover in the alt-right</td>\n",
              "      <td>https://www.ted.com/talks/theo_e_j_wilson_a_bl...</td>\n",
              "      <td>419309</td>\n",
              "    </tr>\n",
              "    <tr>\n",
              "      <th>2550</th>\n",
              "      <td>8</td>\n",
              "      <td>With more than half of the world population li...</td>\n",
              "      <td>519</td>\n",
              "      <td>TED2017</td>\n",
              "      <td>1492992000</td>\n",
              "      <td>1</td>\n",
              "      <td>Karoliina Korppoo</td>\n",
              "      <td>Karoliina Korppoo: How a video game might help...</td>\n",
              "      <td>1</td>\n",
              "      <td>1506092422</td>\n",
              "      <td>[{'id': 21, 'name': 'Unconvincing', 'count': 2...</td>\n",
              "      <td>[{'id': 2682, 'hero': 'https://pe.tedcdn.com/i...</td>\n",
              "      <td>Game designer</td>\n",
              "      <td>['cities', 'design', 'future', 'infrastructure...</td>\n",
              "      <td>How a video game might help us build better ci...</td>\n",
              "      <td>https://www.ted.com/talks/karoliina_korppoo_ho...</td>\n",
              "      <td>391721</td>\n",
              "    </tr>\n",
              "  </tbody>\n",
              "</table>\n",
              "<p>2550 rows × 17 columns</p>\n",
              "</div>"
            ],
            "text/plain": [
              "      comments  ...     views\n",
              "ID              ...          \n",
              "1         4553  ...  47227110\n",
              "2          265  ...   3200520\n",
              "3          124  ...   1636292\n",
              "4          200  ...   1697550\n",
              "5          593  ...  12005869\n",
              "...        ...  ...       ...\n",
              "2546        17  ...    450430\n",
              "2547         6  ...    417470\n",
              "2548        10  ...    375647\n",
              "2549        32  ...    419309\n",
              "2550         8  ...    391721\n",
              "\n",
              "[2550 rows x 17 columns]"
            ]
          },
          "metadata": {
            "tags": []
          },
          "execution_count": 129
        }
      ]
    },
    {
      "cell_type": "markdown",
      "metadata": {
        "id": "9pUYNzo7gpEc",
        "colab_type": "text"
      },
      "source": [
        "### Drop unnecessary columns"
      ]
    },
    {
      "cell_type": "code",
      "metadata": {
        "id": "GxrZUCpWvH-N",
        "colab_type": "code",
        "outputId": "66ed823f-344d-490c-a4a9-fc6f175e1917",
        "colab": {
          "base_uri": "https://localhost:8080/",
          "height": 595
        }
      },
      "source": [
        "# The URL, related_talks and name are not necessary in our analysis\n",
        "df.drop(columns=['url', 'name', 'related_talks'], inplace = True)\n",
        "df.head()"
      ],
      "execution_count": 130,
      "outputs": [
        {
          "output_type": "execute_result",
          "data": {
            "text/html": [
              "<div>\n",
              "<style scoped>\n",
              "    .dataframe tbody tr th:only-of-type {\n",
              "        vertical-align: middle;\n",
              "    }\n",
              "\n",
              "    .dataframe tbody tr th {\n",
              "        vertical-align: top;\n",
              "    }\n",
              "\n",
              "    .dataframe thead th {\n",
              "        text-align: right;\n",
              "    }\n",
              "</style>\n",
              "<table border=\"1\" class=\"dataframe\">\n",
              "  <thead>\n",
              "    <tr style=\"text-align: right;\">\n",
              "      <th></th>\n",
              "      <th>comments</th>\n",
              "      <th>description</th>\n",
              "      <th>duration</th>\n",
              "      <th>event</th>\n",
              "      <th>film_date</th>\n",
              "      <th>languages</th>\n",
              "      <th>main_speaker</th>\n",
              "      <th>num_speaker</th>\n",
              "      <th>published_date</th>\n",
              "      <th>ratings</th>\n",
              "      <th>speaker_occupation</th>\n",
              "      <th>tags</th>\n",
              "      <th>title</th>\n",
              "      <th>views</th>\n",
              "    </tr>\n",
              "    <tr>\n",
              "      <th>ID</th>\n",
              "      <th></th>\n",
              "      <th></th>\n",
              "      <th></th>\n",
              "      <th></th>\n",
              "      <th></th>\n",
              "      <th></th>\n",
              "      <th></th>\n",
              "      <th></th>\n",
              "      <th></th>\n",
              "      <th></th>\n",
              "      <th></th>\n",
              "      <th></th>\n",
              "      <th></th>\n",
              "      <th></th>\n",
              "    </tr>\n",
              "  </thead>\n",
              "  <tbody>\n",
              "    <tr>\n",
              "      <th>1</th>\n",
              "      <td>4553</td>\n",
              "      <td>Sir Ken Robinson makes an entertaining and pro...</td>\n",
              "      <td>1164</td>\n",
              "      <td>TED2006</td>\n",
              "      <td>1140825600</td>\n",
              "      <td>60</td>\n",
              "      <td>Ken Robinson</td>\n",
              "      <td>1</td>\n",
              "      <td>1151367060</td>\n",
              "      <td>[{'id': 7, 'name': 'Funny', 'count': 19645}, {...</td>\n",
              "      <td>Author/educator</td>\n",
              "      <td>['children', 'creativity', 'culture', 'dance',...</td>\n",
              "      <td>Do schools kill creativity?</td>\n",
              "      <td>47227110</td>\n",
              "    </tr>\n",
              "    <tr>\n",
              "      <th>2</th>\n",
              "      <td>265</td>\n",
              "      <td>With the same humor and humanity he exuded in ...</td>\n",
              "      <td>977</td>\n",
              "      <td>TED2006</td>\n",
              "      <td>1140825600</td>\n",
              "      <td>43</td>\n",
              "      <td>Al Gore</td>\n",
              "      <td>1</td>\n",
              "      <td>1151367060</td>\n",
              "      <td>[{'id': 7, 'name': 'Funny', 'count': 544}, {'i...</td>\n",
              "      <td>Climate advocate</td>\n",
              "      <td>['alternative energy', 'cars', 'climate change...</td>\n",
              "      <td>Averting the climate crisis</td>\n",
              "      <td>3200520</td>\n",
              "    </tr>\n",
              "    <tr>\n",
              "      <th>3</th>\n",
              "      <td>124</td>\n",
              "      <td>New York Times columnist David Pogue takes aim...</td>\n",
              "      <td>1286</td>\n",
              "      <td>TED2006</td>\n",
              "      <td>1140739200</td>\n",
              "      <td>26</td>\n",
              "      <td>David Pogue</td>\n",
              "      <td>1</td>\n",
              "      <td>1151367060</td>\n",
              "      <td>[{'id': 7, 'name': 'Funny', 'count': 964}, {'i...</td>\n",
              "      <td>Technology columnist</td>\n",
              "      <td>['computers', 'entertainment', 'interface desi...</td>\n",
              "      <td>Simplicity sells</td>\n",
              "      <td>1636292</td>\n",
              "    </tr>\n",
              "    <tr>\n",
              "      <th>4</th>\n",
              "      <td>200</td>\n",
              "      <td>In an emotionally charged talk, MacArthur-winn...</td>\n",
              "      <td>1116</td>\n",
              "      <td>TED2006</td>\n",
              "      <td>1140912000</td>\n",
              "      <td>35</td>\n",
              "      <td>Majora Carter</td>\n",
              "      <td>1</td>\n",
              "      <td>1151367060</td>\n",
              "      <td>[{'id': 3, 'name': 'Courageous', 'count': 760}...</td>\n",
              "      <td>Activist for environmental justice</td>\n",
              "      <td>['MacArthur grant', 'activism', 'business', 'c...</td>\n",
              "      <td>Greening the ghetto</td>\n",
              "      <td>1697550</td>\n",
              "    </tr>\n",
              "    <tr>\n",
              "      <th>5</th>\n",
              "      <td>593</td>\n",
              "      <td>You've never seen data presented like this. Wi...</td>\n",
              "      <td>1190</td>\n",
              "      <td>TED2006</td>\n",
              "      <td>1140566400</td>\n",
              "      <td>48</td>\n",
              "      <td>Hans Rosling</td>\n",
              "      <td>1</td>\n",
              "      <td>1151440680</td>\n",
              "      <td>[{'id': 9, 'name': 'Ingenious', 'count': 3202}...</td>\n",
              "      <td>Global health expert; data visionary</td>\n",
              "      <td>['Africa', 'Asia', 'Google', 'demo', 'economic...</td>\n",
              "      <td>The best stats you've ever seen</td>\n",
              "      <td>12005869</td>\n",
              "    </tr>\n",
              "  </tbody>\n",
              "</table>\n",
              "</div>"
            ],
            "text/plain": [
              "    comments  ...     views\n",
              "ID            ...          \n",
              "1       4553  ...  47227110\n",
              "2        265  ...   3200520\n",
              "3        124  ...   1636292\n",
              "4        200  ...   1697550\n",
              "5        593  ...  12005869\n",
              "\n",
              "[5 rows x 14 columns]"
            ]
          },
          "metadata": {
            "tags": []
          },
          "execution_count": 130
        }
      ]
    },
    {
      "cell_type": "markdown",
      "metadata": {
        "id": "_lfksiKUwyNp",
        "colab_type": "text"
      },
      "source": [
        "### Reorder for the sake of Readability"
      ]
    },
    {
      "cell_type": "code",
      "metadata": {
        "id": "zREySRlyw4Tf",
        "colab_type": "code",
        "outputId": "8479e64b-b69a-41fa-aa9b-bc9499aca7b0",
        "colab": {
          "base_uri": "https://localhost:8080/",
          "height": 595
        }
      },
      "source": [
        "# For the reader's convenience (and my OCD)\n",
        "df = df[['title', 'description', 'main_speaker', 'speaker_occupation', 'num_speaker', 'duration', 'event', 'film_date', 'published_date', 'views', 'comments', 'tags', 'languages', 'ratings']]\n",
        "df.head()"
      ],
      "execution_count": 131,
      "outputs": [
        {
          "output_type": "execute_result",
          "data": {
            "text/html": [
              "<div>\n",
              "<style scoped>\n",
              "    .dataframe tbody tr th:only-of-type {\n",
              "        vertical-align: middle;\n",
              "    }\n",
              "\n",
              "    .dataframe tbody tr th {\n",
              "        vertical-align: top;\n",
              "    }\n",
              "\n",
              "    .dataframe thead th {\n",
              "        text-align: right;\n",
              "    }\n",
              "</style>\n",
              "<table border=\"1\" class=\"dataframe\">\n",
              "  <thead>\n",
              "    <tr style=\"text-align: right;\">\n",
              "      <th></th>\n",
              "      <th>title</th>\n",
              "      <th>description</th>\n",
              "      <th>main_speaker</th>\n",
              "      <th>speaker_occupation</th>\n",
              "      <th>num_speaker</th>\n",
              "      <th>duration</th>\n",
              "      <th>event</th>\n",
              "      <th>film_date</th>\n",
              "      <th>published_date</th>\n",
              "      <th>views</th>\n",
              "      <th>comments</th>\n",
              "      <th>tags</th>\n",
              "      <th>languages</th>\n",
              "      <th>ratings</th>\n",
              "    </tr>\n",
              "    <tr>\n",
              "      <th>ID</th>\n",
              "      <th></th>\n",
              "      <th></th>\n",
              "      <th></th>\n",
              "      <th></th>\n",
              "      <th></th>\n",
              "      <th></th>\n",
              "      <th></th>\n",
              "      <th></th>\n",
              "      <th></th>\n",
              "      <th></th>\n",
              "      <th></th>\n",
              "      <th></th>\n",
              "      <th></th>\n",
              "      <th></th>\n",
              "    </tr>\n",
              "  </thead>\n",
              "  <tbody>\n",
              "    <tr>\n",
              "      <th>1</th>\n",
              "      <td>Do schools kill creativity?</td>\n",
              "      <td>Sir Ken Robinson makes an entertaining and pro...</td>\n",
              "      <td>Ken Robinson</td>\n",
              "      <td>Author/educator</td>\n",
              "      <td>1</td>\n",
              "      <td>1164</td>\n",
              "      <td>TED2006</td>\n",
              "      <td>1140825600</td>\n",
              "      <td>1151367060</td>\n",
              "      <td>47227110</td>\n",
              "      <td>4553</td>\n",
              "      <td>['children', 'creativity', 'culture', 'dance',...</td>\n",
              "      <td>60</td>\n",
              "      <td>[{'id': 7, 'name': 'Funny', 'count': 19645}, {...</td>\n",
              "    </tr>\n",
              "    <tr>\n",
              "      <th>2</th>\n",
              "      <td>Averting the climate crisis</td>\n",
              "      <td>With the same humor and humanity he exuded in ...</td>\n",
              "      <td>Al Gore</td>\n",
              "      <td>Climate advocate</td>\n",
              "      <td>1</td>\n",
              "      <td>977</td>\n",
              "      <td>TED2006</td>\n",
              "      <td>1140825600</td>\n",
              "      <td>1151367060</td>\n",
              "      <td>3200520</td>\n",
              "      <td>265</td>\n",
              "      <td>['alternative energy', 'cars', 'climate change...</td>\n",
              "      <td>43</td>\n",
              "      <td>[{'id': 7, 'name': 'Funny', 'count': 544}, {'i...</td>\n",
              "    </tr>\n",
              "    <tr>\n",
              "      <th>3</th>\n",
              "      <td>Simplicity sells</td>\n",
              "      <td>New York Times columnist David Pogue takes aim...</td>\n",
              "      <td>David Pogue</td>\n",
              "      <td>Technology columnist</td>\n",
              "      <td>1</td>\n",
              "      <td>1286</td>\n",
              "      <td>TED2006</td>\n",
              "      <td>1140739200</td>\n",
              "      <td>1151367060</td>\n",
              "      <td>1636292</td>\n",
              "      <td>124</td>\n",
              "      <td>['computers', 'entertainment', 'interface desi...</td>\n",
              "      <td>26</td>\n",
              "      <td>[{'id': 7, 'name': 'Funny', 'count': 964}, {'i...</td>\n",
              "    </tr>\n",
              "    <tr>\n",
              "      <th>4</th>\n",
              "      <td>Greening the ghetto</td>\n",
              "      <td>In an emotionally charged talk, MacArthur-winn...</td>\n",
              "      <td>Majora Carter</td>\n",
              "      <td>Activist for environmental justice</td>\n",
              "      <td>1</td>\n",
              "      <td>1116</td>\n",
              "      <td>TED2006</td>\n",
              "      <td>1140912000</td>\n",
              "      <td>1151367060</td>\n",
              "      <td>1697550</td>\n",
              "      <td>200</td>\n",
              "      <td>['MacArthur grant', 'activism', 'business', 'c...</td>\n",
              "      <td>35</td>\n",
              "      <td>[{'id': 3, 'name': 'Courageous', 'count': 760}...</td>\n",
              "    </tr>\n",
              "    <tr>\n",
              "      <th>5</th>\n",
              "      <td>The best stats you've ever seen</td>\n",
              "      <td>You've never seen data presented like this. Wi...</td>\n",
              "      <td>Hans Rosling</td>\n",
              "      <td>Global health expert; data visionary</td>\n",
              "      <td>1</td>\n",
              "      <td>1190</td>\n",
              "      <td>TED2006</td>\n",
              "      <td>1140566400</td>\n",
              "      <td>1151440680</td>\n",
              "      <td>12005869</td>\n",
              "      <td>593</td>\n",
              "      <td>['Africa', 'Asia', 'Google', 'demo', 'economic...</td>\n",
              "      <td>48</td>\n",
              "      <td>[{'id': 9, 'name': 'Ingenious', 'count': 3202}...</td>\n",
              "    </tr>\n",
              "  </tbody>\n",
              "</table>\n",
              "</div>"
            ],
            "text/plain": [
              "                              title  ...                                            ratings\n",
              "ID                                   ...                                                   \n",
              "1       Do schools kill creativity?  ...  [{'id': 7, 'name': 'Funny', 'count': 19645}, {...\n",
              "2       Averting the climate crisis  ...  [{'id': 7, 'name': 'Funny', 'count': 544}, {'i...\n",
              "3                  Simplicity sells  ...  [{'id': 7, 'name': 'Funny', 'count': 964}, {'i...\n",
              "4               Greening the ghetto  ...  [{'id': 3, 'name': 'Courageous', 'count': 760}...\n",
              "5   The best stats you've ever seen  ...  [{'id': 9, 'name': 'Ingenious', 'count': 3202}...\n",
              "\n",
              "[5 rows x 14 columns]"
            ]
          },
          "metadata": {
            "tags": []
          },
          "execution_count": 131
        }
      ]
    },
    {
      "cell_type": "markdown",
      "metadata": {
        "id": "aKMxPTQpfcKx",
        "colab_type": "text"
      },
      "source": [
        "### Handle missing data\n",
        "\n",
        "\n"
      ]
    },
    {
      "cell_type": "code",
      "metadata": {
        "id": "dgMnLnMxSFJS",
        "colab_type": "code",
        "outputId": "9bbdde8f-e966-4807-af70-ee93b823a603",
        "colab": {
          "base_uri": "https://localhost:8080/",
          "height": 272
        }
      },
      "source": [
        "# count the number of missing values in each column\n",
        "# expectation after reading the info : speaker_occupation(6)\n",
        "\n",
        "df.isna().sum()"
      ],
      "execution_count": 132,
      "outputs": [
        {
          "output_type": "execute_result",
          "data": {
            "text/plain": [
              "title                 0\n",
              "description           0\n",
              "main_speaker          0\n",
              "speaker_occupation    6\n",
              "num_speaker           0\n",
              "duration              0\n",
              "event                 0\n",
              "film_date             0\n",
              "published_date        0\n",
              "views                 0\n",
              "comments              0\n",
              "tags                  0\n",
              "languages             0\n",
              "ratings               0\n",
              "dtype: int64"
            ]
          },
          "metadata": {
            "tags": []
          },
          "execution_count": 132
        }
      ]
    },
    {
      "cell_type": "markdown",
      "metadata": {
        "id": "8ENyZixcyeyD",
        "colab_type": "text"
      },
      "source": [
        "In machine learning, we need to handle missing values. There are many types of missing values:\n",
        "\n",
        "1. Standard Missing Values: These are missing values that Pandas can detect.\n",
        "2. Non-Standard Missing Values: Sometimes it might be the case where there’s missing values that have different formats.\n",
        "3. Unexpected Missing Values: For example, if our feature is expected to be a string, but there’s a numeric type, then technically this is also a missing value."
      ]
    },
    {
      "cell_type": "code",
      "metadata": {
        "id": "2W5OObi25XVq",
        "colab_type": "code",
        "outputId": "e7205328-96f6-479a-84f6-7ac5dd2b4ccf",
        "colab": {
          "base_uri": "https://localhost:8080/",
          "height": 694
        }
      },
      "source": [
        "# View those missing values of speaker_occupation\n",
        "df[df['speaker_occupation'].isnull()]"
      ],
      "execution_count": 133,
      "outputs": [
        {
          "output_type": "execute_result",
          "data": {
            "text/html": [
              "<div>\n",
              "<style scoped>\n",
              "    .dataframe tbody tr th:only-of-type {\n",
              "        vertical-align: middle;\n",
              "    }\n",
              "\n",
              "    .dataframe tbody tr th {\n",
              "        vertical-align: top;\n",
              "    }\n",
              "\n",
              "    .dataframe thead th {\n",
              "        text-align: right;\n",
              "    }\n",
              "</style>\n",
              "<table border=\"1\" class=\"dataframe\">\n",
              "  <thead>\n",
              "    <tr style=\"text-align: right;\">\n",
              "      <th></th>\n",
              "      <th>title</th>\n",
              "      <th>description</th>\n",
              "      <th>main_speaker</th>\n",
              "      <th>speaker_occupation</th>\n",
              "      <th>num_speaker</th>\n",
              "      <th>duration</th>\n",
              "      <th>event</th>\n",
              "      <th>film_date</th>\n",
              "      <th>published_date</th>\n",
              "      <th>views</th>\n",
              "      <th>comments</th>\n",
              "      <th>tags</th>\n",
              "      <th>languages</th>\n",
              "      <th>ratings</th>\n",
              "    </tr>\n",
              "    <tr>\n",
              "      <th>ID</th>\n",
              "      <th></th>\n",
              "      <th></th>\n",
              "      <th></th>\n",
              "      <th></th>\n",
              "      <th></th>\n",
              "      <th></th>\n",
              "      <th></th>\n",
              "      <th></th>\n",
              "      <th></th>\n",
              "      <th></th>\n",
              "      <th></th>\n",
              "      <th></th>\n",
              "      <th></th>\n",
              "      <th></th>\n",
              "    </tr>\n",
              "  </thead>\n",
              "  <tbody>\n",
              "    <tr>\n",
              "      <th>1114</th>\n",
              "      <td>Meet the Water Canary</td>\n",
              "      <td>After a crisis, how can we tell if water is sa...</td>\n",
              "      <td>Sonaar Luthra</td>\n",
              "      <td>NaN</td>\n",
              "      <td>1</td>\n",
              "      <td>217</td>\n",
              "      <td>TEDGlobal 2011</td>\n",
              "      <td>1310601600</td>\n",
              "      <td>1326731605</td>\n",
              "      <td>353749</td>\n",
              "      <td>145</td>\n",
              "      <td>['TED Fellows', 'design', 'global development'...</td>\n",
              "      <td>38</td>\n",
              "      <td>[{'id': 10, 'name': 'Inspiring', 'count': 73},...</td>\n",
              "    </tr>\n",
              "    <tr>\n",
              "      <th>1193</th>\n",
              "      <td>I am a pirate</td>\n",
              "      <td>The Pirate Party fights for transparency, anon...</td>\n",
              "      <td>Rick Falkvinge</td>\n",
              "      <td>NaN</td>\n",
              "      <td>1</td>\n",
              "      <td>1097</td>\n",
              "      <td>TEDxObserver</td>\n",
              "      <td>1331424000</td>\n",
              "      <td>1333289675</td>\n",
              "      <td>181010</td>\n",
              "      <td>122</td>\n",
              "      <td>['Internet', 'TEDx', 'global issues', 'politic...</td>\n",
              "      <td>10</td>\n",
              "      <td>[{'id': 8, 'name': 'Informative', 'count': 156...</td>\n",
              "    </tr>\n",
              "    <tr>\n",
              "      <th>1221</th>\n",
              "      <td>Tracking our online trackers</td>\n",
              "      <td>As you surf the Web, information is being coll...</td>\n",
              "      <td>Gary Kovacs</td>\n",
              "      <td>NaN</td>\n",
              "      <td>1</td>\n",
              "      <td>399</td>\n",
              "      <td>TED2012</td>\n",
              "      <td>1330473600</td>\n",
              "      <td>1336057219</td>\n",
              "      <td>2098639</td>\n",
              "      <td>257</td>\n",
              "      <td>['Internet', 'advertising', 'business', 'priva...</td>\n",
              "      <td>32</td>\n",
              "      <td>[{'id': 23, 'name': 'Jaw-dropping', 'count': 9...</td>\n",
              "    </tr>\n",
              "    <tr>\n",
              "      <th>1657</th>\n",
              "      <td>To hear this music you have to be there. Liter...</td>\n",
              "      <td>In this lovely talk, TED Fellow Ryan Holladay ...</td>\n",
              "      <td>Ryan Holladay</td>\n",
              "      <td>NaN</td>\n",
              "      <td>1</td>\n",
              "      <td>389</td>\n",
              "      <td>TED@BCG San Francisco</td>\n",
              "      <td>1383091200</td>\n",
              "      <td>1389369735</td>\n",
              "      <td>1284510</td>\n",
              "      <td>140</td>\n",
              "      <td>['TED Fellows', 'entertainment', 'music', 'tec...</td>\n",
              "      <td>33</td>\n",
              "      <td>[{'id': 1, 'name': 'Beautiful', 'count': 211},...</td>\n",
              "    </tr>\n",
              "    <tr>\n",
              "      <th>1912</th>\n",
              "      <td>Old books reborn as art</td>\n",
              "      <td>What do you do with an outdated encyclopedia i...</td>\n",
              "      <td>Brian Dettmer</td>\n",
              "      <td>NaN</td>\n",
              "      <td>1</td>\n",
              "      <td>366</td>\n",
              "      <td>TEDYouth 2014</td>\n",
              "      <td>1415059200</td>\n",
              "      <td>1423238442</td>\n",
              "      <td>1159937</td>\n",
              "      <td>48</td>\n",
              "      <td>['TEDYouth', 'art', 'books', 'creativity']</td>\n",
              "      <td>34</td>\n",
              "      <td>[{'id': 1, 'name': 'Beautiful', 'count': 361},...</td>\n",
              "    </tr>\n",
              "    <tr>\n",
              "      <th>1950</th>\n",
              "      <td>The day I stood up alone</td>\n",
              "      <td>Photographer Boniface Mwangi wanted to protest...</td>\n",
              "      <td>Boniface Mwangi</td>\n",
              "      <td>NaN</td>\n",
              "      <td>1</td>\n",
              "      <td>440</td>\n",
              "      <td>TEDGlobal 2014</td>\n",
              "      <td>1413763200</td>\n",
              "      <td>1427989423</td>\n",
              "      <td>1342431</td>\n",
              "      <td>70</td>\n",
              "      <td>['TED Fellows', 'activism', 'art', 'corruption...</td>\n",
              "      <td>33</td>\n",
              "      <td>[{'id': 3, 'name': 'Courageous', 'count': 614}...</td>\n",
              "    </tr>\n",
              "  </tbody>\n",
              "</table>\n",
              "</div>"
            ],
            "text/plain": [
              "                                                  title  ...                                            ratings\n",
              "ID                                                       ...                                                   \n",
              "1114                              Meet the Water Canary  ...  [{'id': 10, 'name': 'Inspiring', 'count': 73},...\n",
              "1193                                      I am a pirate  ...  [{'id': 8, 'name': 'Informative', 'count': 156...\n",
              "1221                       Tracking our online trackers  ...  [{'id': 23, 'name': 'Jaw-dropping', 'count': 9...\n",
              "1657  To hear this music you have to be there. Liter...  ...  [{'id': 1, 'name': 'Beautiful', 'count': 211},...\n",
              "1912                            Old books reborn as art  ...  [{'id': 1, 'name': 'Beautiful', 'count': 361},...\n",
              "1950                           The day I stood up alone  ...  [{'id': 3, 'name': 'Courageous', 'count': 614}...\n",
              "\n",
              "[6 rows x 14 columns]"
            ]
          },
          "metadata": {
            "tags": []
          },
          "execution_count": 133
        }
      ]
    },
    {
      "cell_type": "code",
      "metadata": {
        "id": "dds8Tiv4SFG0",
        "colab_type": "code",
        "outputId": "b725f2ce-3945-4063-a790-c5b5ff589228",
        "colab": {
          "base_uri": "https://localhost:8080/",
          "height": 272
        }
      },
      "source": [
        "# fill in those missing values with a default 'Other' value\n",
        "df['speaker_occupation'].fillna('Other', inplace = True)\n",
        "df.isna().sum()"
      ],
      "execution_count": 134,
      "outputs": [
        {
          "output_type": "execute_result",
          "data": {
            "text/plain": [
              "title                 0\n",
              "description           0\n",
              "main_speaker          0\n",
              "speaker_occupation    0\n",
              "num_speaker           0\n",
              "duration              0\n",
              "event                 0\n",
              "film_date             0\n",
              "published_date        0\n",
              "views                 0\n",
              "comments              0\n",
              "tags                  0\n",
              "languages             0\n",
              "ratings               0\n",
              "dtype: int64"
            ]
          },
          "metadata": {
            "tags": []
          },
          "execution_count": 134
        }
      ]
    },
    {
      "cell_type": "code",
      "metadata": {
        "id": "33RkmvrMdbKI",
        "colab_type": "code",
        "outputId": "4dfc251e-535e-4dd0-c4fa-2694a1b3c4db",
        "colab": {
          "base_uri": "https://localhost:8080/",
          "height": 297
        }
      },
      "source": [
        "# Check again if there is any negative value\n",
        "df.describe()"
      ],
      "execution_count": 135,
      "outputs": [
        {
          "output_type": "execute_result",
          "data": {
            "text/html": [
              "<div>\n",
              "<style scoped>\n",
              "    .dataframe tbody tr th:only-of-type {\n",
              "        vertical-align: middle;\n",
              "    }\n",
              "\n",
              "    .dataframe tbody tr th {\n",
              "        vertical-align: top;\n",
              "    }\n",
              "\n",
              "    .dataframe thead th {\n",
              "        text-align: right;\n",
              "    }\n",
              "</style>\n",
              "<table border=\"1\" class=\"dataframe\">\n",
              "  <thead>\n",
              "    <tr style=\"text-align: right;\">\n",
              "      <th></th>\n",
              "      <th>num_speaker</th>\n",
              "      <th>duration</th>\n",
              "      <th>film_date</th>\n",
              "      <th>published_date</th>\n",
              "      <th>views</th>\n",
              "      <th>comments</th>\n",
              "      <th>languages</th>\n",
              "    </tr>\n",
              "  </thead>\n",
              "  <tbody>\n",
              "    <tr>\n",
              "      <th>count</th>\n",
              "      <td>2550.000000</td>\n",
              "      <td>2550.000000</td>\n",
              "      <td>2.550000e+03</td>\n",
              "      <td>2.550000e+03</td>\n",
              "      <td>2.550000e+03</td>\n",
              "      <td>2550.000000</td>\n",
              "      <td>2550.000000</td>\n",
              "    </tr>\n",
              "    <tr>\n",
              "      <th>mean</th>\n",
              "      <td>1.028235</td>\n",
              "      <td>826.510196</td>\n",
              "      <td>1.321928e+09</td>\n",
              "      <td>1.343525e+09</td>\n",
              "      <td>1.698297e+06</td>\n",
              "      <td>191.562353</td>\n",
              "      <td>27.326275</td>\n",
              "    </tr>\n",
              "    <tr>\n",
              "      <th>std</th>\n",
              "      <td>0.207705</td>\n",
              "      <td>374.009138</td>\n",
              "      <td>1.197391e+08</td>\n",
              "      <td>9.464009e+07</td>\n",
              "      <td>2.498479e+06</td>\n",
              "      <td>282.315223</td>\n",
              "      <td>9.563452</td>\n",
              "    </tr>\n",
              "    <tr>\n",
              "      <th>min</th>\n",
              "      <td>1.000000</td>\n",
              "      <td>135.000000</td>\n",
              "      <td>7.464960e+07</td>\n",
              "      <td>1.151367e+09</td>\n",
              "      <td>5.044300e+04</td>\n",
              "      <td>2.000000</td>\n",
              "      <td>0.000000</td>\n",
              "    </tr>\n",
              "    <tr>\n",
              "      <th>25%</th>\n",
              "      <td>1.000000</td>\n",
              "      <td>577.000000</td>\n",
              "      <td>1.257466e+09</td>\n",
              "      <td>1.268463e+09</td>\n",
              "      <td>7.557928e+05</td>\n",
              "      <td>63.000000</td>\n",
              "      <td>23.000000</td>\n",
              "    </tr>\n",
              "    <tr>\n",
              "      <th>50%</th>\n",
              "      <td>1.000000</td>\n",
              "      <td>848.000000</td>\n",
              "      <td>1.333238e+09</td>\n",
              "      <td>1.340935e+09</td>\n",
              "      <td>1.124524e+06</td>\n",
              "      <td>118.000000</td>\n",
              "      <td>28.000000</td>\n",
              "    </tr>\n",
              "    <tr>\n",
              "      <th>75%</th>\n",
              "      <td>1.000000</td>\n",
              "      <td>1046.750000</td>\n",
              "      <td>1.412964e+09</td>\n",
              "      <td>1.423432e+09</td>\n",
              "      <td>1.700760e+06</td>\n",
              "      <td>221.750000</td>\n",
              "      <td>33.000000</td>\n",
              "    </tr>\n",
              "    <tr>\n",
              "      <th>max</th>\n",
              "      <td>5.000000</td>\n",
              "      <td>5256.000000</td>\n",
              "      <td>1.503792e+09</td>\n",
              "      <td>1.506092e+09</td>\n",
              "      <td>4.722711e+07</td>\n",
              "      <td>6404.000000</td>\n",
              "      <td>72.000000</td>\n",
              "    </tr>\n",
              "  </tbody>\n",
              "</table>\n",
              "</div>"
            ],
            "text/plain": [
              "       num_speaker     duration  ...     comments    languages\n",
              "count  2550.000000  2550.000000  ...  2550.000000  2550.000000\n",
              "mean      1.028235   826.510196  ...   191.562353    27.326275\n",
              "std       0.207705   374.009138  ...   282.315223     9.563452\n",
              "min       1.000000   135.000000  ...     2.000000     0.000000\n",
              "25%       1.000000   577.000000  ...    63.000000    23.000000\n",
              "50%       1.000000   848.000000  ...   118.000000    28.000000\n",
              "75%       1.000000  1046.750000  ...   221.750000    33.000000\n",
              "max       5.000000  5256.000000  ...  6404.000000    72.000000\n",
              "\n",
              "[8 rows x 7 columns]"
            ]
          },
          "metadata": {
            "tags": []
          },
          "execution_count": 135
        }
      ]
    },
    {
      "cell_type": "markdown",
      "metadata": {
        "id": "QZhT8EvvpKla",
        "colab_type": "text"
      },
      "source": [
        "### Handle errors"
      ]
    },
    {
      "cell_type": "code",
      "metadata": {
        "id": "PANOYfl_SFAU",
        "colab_type": "code",
        "outputId": "abc58661-558c-4534-99bd-9a300f6f910c",
        "colab": {
          "base_uri": "https://localhost:8080/",
          "height": 1000
        }
      },
      "source": [
        "df.sample(10)"
      ],
      "execution_count": 136,
      "outputs": [
        {
          "output_type": "execute_result",
          "data": {
            "text/html": [
              "<div>\n",
              "<style scoped>\n",
              "    .dataframe tbody tr th:only-of-type {\n",
              "        vertical-align: middle;\n",
              "    }\n",
              "\n",
              "    .dataframe tbody tr th {\n",
              "        vertical-align: top;\n",
              "    }\n",
              "\n",
              "    .dataframe thead th {\n",
              "        text-align: right;\n",
              "    }\n",
              "</style>\n",
              "<table border=\"1\" class=\"dataframe\">\n",
              "  <thead>\n",
              "    <tr style=\"text-align: right;\">\n",
              "      <th></th>\n",
              "      <th>title</th>\n",
              "      <th>description</th>\n",
              "      <th>main_speaker</th>\n",
              "      <th>speaker_occupation</th>\n",
              "      <th>num_speaker</th>\n",
              "      <th>duration</th>\n",
              "      <th>event</th>\n",
              "      <th>film_date</th>\n",
              "      <th>published_date</th>\n",
              "      <th>views</th>\n",
              "      <th>comments</th>\n",
              "      <th>tags</th>\n",
              "      <th>languages</th>\n",
              "      <th>ratings</th>\n",
              "    </tr>\n",
              "    <tr>\n",
              "      <th>ID</th>\n",
              "      <th></th>\n",
              "      <th></th>\n",
              "      <th></th>\n",
              "      <th></th>\n",
              "      <th></th>\n",
              "      <th></th>\n",
              "      <th></th>\n",
              "      <th></th>\n",
              "      <th></th>\n",
              "      <th></th>\n",
              "      <th></th>\n",
              "      <th></th>\n",
              "      <th></th>\n",
              "      <th></th>\n",
              "    </tr>\n",
              "  </thead>\n",
              "  <tbody>\n",
              "    <tr>\n",
              "      <th>2360</th>\n",
              "      <td>Meet the inventor of the electronic spreadsheet</td>\n",
              "      <td>Dan Bricklin changed the world forever when he...</td>\n",
              "      <td>Dan Bricklin</td>\n",
              "      <td>Software pioneer</td>\n",
              "      <td>1</td>\n",
              "      <td>720</td>\n",
              "      <td>TEDxBeaconStreet</td>\n",
              "      <td>1479513600</td>\n",
              "      <td>1484149970</td>\n",
              "      <td>992523</td>\n",
              "      <td>18</td>\n",
              "      <td>['TEDx', 'business', 'code', 'collaboration', ...</td>\n",
              "      <td>19</td>\n",
              "      <td>[{'id': 8, 'name': 'Informative', 'count': 266...</td>\n",
              "    </tr>\n",
              "    <tr>\n",
              "      <th>865</th>\n",
              "      <td>How to make work-life balance work</td>\n",
              "      <td>Work-life balance, says Nigel Marsh, is too im...</td>\n",
              "      <td>Nigel Marsh</td>\n",
              "      <td>Author and marketer</td>\n",
              "      <td>1</td>\n",
              "      <td>605</td>\n",
              "      <td>TEDxSydney</td>\n",
              "      <td>1275004800</td>\n",
              "      <td>1297099320</td>\n",
              "      <td>3813685</td>\n",
              "      <td>283</td>\n",
              "      <td>['TEDx', 'business', 'culture', 'life', 'motiv...</td>\n",
              "      <td>41</td>\n",
              "      <td>[{'id': 7, 'name': 'Funny', 'count': 981}, {'i...</td>\n",
              "    </tr>\n",
              "    <tr>\n",
              "      <th>1269</th>\n",
              "      <td>How to air-condition outdoor spaces</td>\n",
              "      <td>During the hot summer months, watching an outd...</td>\n",
              "      <td>Wolfgang Kessling</td>\n",
              "      <td>Physicist</td>\n",
              "      <td>1</td>\n",
              "      <td>695</td>\n",
              "      <td>TEDxSummit</td>\n",
              "      <td>1334620800</td>\n",
              "      <td>1340377202</td>\n",
              "      <td>703243</td>\n",
              "      <td>61</td>\n",
              "      <td>['TEDx', 'alternative energy', 'architecture',...</td>\n",
              "      <td>22</td>\n",
              "      <td>[{'id': 21, 'name': 'Unconvincing', 'count': 4...</td>\n",
              "    </tr>\n",
              "    <tr>\n",
              "      <th>2174</th>\n",
              "      <td>Two reasons companies fail -- and how to avoid...</td>\n",
              "      <td>Is it possible to run a company and reinvent i...</td>\n",
              "      <td>Knut Haanaes</td>\n",
              "      <td>Strategist</td>\n",
              "      <td>1</td>\n",
              "      <td>638</td>\n",
              "      <td>TED@BCG London</td>\n",
              "      <td>1435622400</td>\n",
              "      <td>1459436743</td>\n",
              "      <td>1743987</td>\n",
              "      <td>23</td>\n",
              "      <td>['business', 'creativity', 'curiosity', 'goal-...</td>\n",
              "      <td>34</td>\n",
              "      <td>[{'id': 3, 'name': 'Courageous', 'count': 63},...</td>\n",
              "    </tr>\n",
              "    <tr>\n",
              "      <th>1628</th>\n",
              "      <td>Ecology from the air</td>\n",
              "      <td>What are our forests really made of? From the ...</td>\n",
              "      <td>Greg Asner</td>\n",
              "      <td>Airborne ecologist</td>\n",
              "      <td>1</td>\n",
              "      <td>830</td>\n",
              "      <td>TEDGlobal 2013</td>\n",
              "      <td>1370995200</td>\n",
              "      <td>1384876854</td>\n",
              "      <td>692579</td>\n",
              "      <td>177</td>\n",
              "      <td>['Africa', 'Natural resources', 'animals', 'bi...</td>\n",
              "      <td>28</td>\n",
              "      <td>[{'id': 1, 'name': 'Beautiful', 'count': 36}, ...</td>\n",
              "    </tr>\n",
              "    <tr>\n",
              "      <th>2144</th>\n",
              "      <td>Meet the dazzling flying machines of the future</td>\n",
              "      <td>When you hear the word \"drone,\" you probably t...</td>\n",
              "      <td>Raffaello D'Andrea</td>\n",
              "      <td>Autonomous systems pioneer</td>\n",
              "      <td>1</td>\n",
              "      <td>695</td>\n",
              "      <td>TED2016</td>\n",
              "      <td>1455494400</td>\n",
              "      <td>1455897802</td>\n",
              "      <td>2560359</td>\n",
              "      <td>61</td>\n",
              "      <td>['beauty', 'creativity', 'demo', 'design', 'dr...</td>\n",
              "      <td>26</td>\n",
              "      <td>[{'id': 8, 'name': 'Informative', 'count': 468...</td>\n",
              "    </tr>\n",
              "    <tr>\n",
              "      <th>1547</th>\n",
              "      <td>The voice of the natural world</td>\n",
              "      <td>Bernie Krause has been recording wild soundsca...</td>\n",
              "      <td>Bernie Krause</td>\n",
              "      <td>Natural sounds expert</td>\n",
              "      <td>1</td>\n",
              "      <td>888</td>\n",
              "      <td>TEDGlobal 2013</td>\n",
              "      <td>1370995200</td>\n",
              "      <td>1373900562</td>\n",
              "      <td>1022050</td>\n",
              "      <td>186</td>\n",
              "      <td>['animals', 'nature', 'sound']</td>\n",
              "      <td>28</td>\n",
              "      <td>[{'id': 10, 'name': 'Inspiring', 'count': 262}...</td>\n",
              "    </tr>\n",
              "    <tr>\n",
              "      <th>500</th>\n",
              "      <td>The music of a war child</td>\n",
              "      <td>For five years, young Emmanuel Jal fought as a...</td>\n",
              "      <td>Emmanuel Jal</td>\n",
              "      <td>Hip-hop artist</td>\n",
              "      <td>1</td>\n",
              "      <td>1083</td>\n",
              "      <td>TEDGlobal 2009</td>\n",
              "      <td>1248307200</td>\n",
              "      <td>1249606800</td>\n",
              "      <td>776516</td>\n",
              "      <td>210</td>\n",
              "      <td>['entertainment', 'global issues', 'live music...</td>\n",
              "      <td>24</td>\n",
              "      <td>[{'id': 10, 'name': 'Inspiring', 'count': 550}...</td>\n",
              "    </tr>\n",
              "    <tr>\n",
              "      <th>1006</th>\n",
              "      <td>Can we make things that make themselves?</td>\n",
              "      <td>MIT researcher Skylar Tibbits works on self-as...</td>\n",
              "      <td>Skylar Tibbits</td>\n",
              "      <td>Inventor</td>\n",
              "      <td>1</td>\n",
              "      <td>364</td>\n",
              "      <td>TED2011</td>\n",
              "      <td>1298505600</td>\n",
              "      <td>1314890942</td>\n",
              "      <td>983929</td>\n",
              "      <td>156</td>\n",
              "      <td>['TED Fellows', 'design', 'technology']</td>\n",
              "      <td>34</td>\n",
              "      <td>[{'id': 10, 'name': 'Inspiring', 'count': 141}...</td>\n",
              "    </tr>\n",
              "    <tr>\n",
              "      <th>1308</th>\n",
              "      <td>Is life really that complex?</td>\n",
              "      <td>Can an algorithm forecast the site of the next...</td>\n",
              "      <td>Hannah Fry</td>\n",
              "      <td>Complexity theorist</td>\n",
              "      <td>1</td>\n",
              "      <td>602</td>\n",
              "      <td>TEDxUCL</td>\n",
              "      <td>1338681600</td>\n",
              "      <td>1344088637</td>\n",
              "      <td>353350</td>\n",
              "      <td>148</td>\n",
              "      <td>['TEDx', 'algorithm', 'anthropology', 'behavio...</td>\n",
              "      <td>0</td>\n",
              "      <td>[{'id': 24, 'name': 'Persuasive', 'count': 108...</td>\n",
              "    </tr>\n",
              "  </tbody>\n",
              "</table>\n",
              "</div>"
            ],
            "text/plain": [
              "                                                  title  ...                                            ratings\n",
              "ID                                                       ...                                                   \n",
              "2360    Meet the inventor of the electronic spreadsheet  ...  [{'id': 8, 'name': 'Informative', 'count': 266...\n",
              "865                  How to make work-life balance work  ...  [{'id': 7, 'name': 'Funny', 'count': 981}, {'i...\n",
              "1269                How to air-condition outdoor spaces  ...  [{'id': 21, 'name': 'Unconvincing', 'count': 4...\n",
              "2174  Two reasons companies fail -- and how to avoid...  ...  [{'id': 3, 'name': 'Courageous', 'count': 63},...\n",
              "1628                               Ecology from the air  ...  [{'id': 1, 'name': 'Beautiful', 'count': 36}, ...\n",
              "2144    Meet the dazzling flying machines of the future  ...  [{'id': 8, 'name': 'Informative', 'count': 468...\n",
              "1547                     The voice of the natural world  ...  [{'id': 10, 'name': 'Inspiring', 'count': 262}...\n",
              "500                            The music of a war child  ...  [{'id': 10, 'name': 'Inspiring', 'count': 550}...\n",
              "1006           Can we make things that make themselves?  ...  [{'id': 10, 'name': 'Inspiring', 'count': 141}...\n",
              "1308                       Is life really that complex?  ...  [{'id': 24, 'name': 'Persuasive', 'count': 108...\n",
              "\n",
              "[10 rows x 14 columns]"
            ]
          },
          "metadata": {
            "tags": []
          },
          "execution_count": 136
        }
      ]
    },
    {
      "cell_type": "code",
      "metadata": {
        "id": "6tGRDwMAA8B4",
        "colab_type": "code",
        "outputId": "b6c151fd-39a4-4d3b-b01b-0cf628ac9a16",
        "colab": {
          "base_uri": "https://localhost:8080/",
          "height": 1000
        }
      },
      "source": [
        "df[df['languages'] == 0]"
      ],
      "execution_count": 137,
      "outputs": [
        {
          "output_type": "execute_result",
          "data": {
            "text/html": [
              "<div>\n",
              "<style scoped>\n",
              "    .dataframe tbody tr th:only-of-type {\n",
              "        vertical-align: middle;\n",
              "    }\n",
              "\n",
              "    .dataframe tbody tr th {\n",
              "        vertical-align: top;\n",
              "    }\n",
              "\n",
              "    .dataframe thead th {\n",
              "        text-align: right;\n",
              "    }\n",
              "</style>\n",
              "<table border=\"1\" class=\"dataframe\">\n",
              "  <thead>\n",
              "    <tr style=\"text-align: right;\">\n",
              "      <th></th>\n",
              "      <th>title</th>\n",
              "      <th>description</th>\n",
              "      <th>main_speaker</th>\n",
              "      <th>speaker_occupation</th>\n",
              "      <th>num_speaker</th>\n",
              "      <th>duration</th>\n",
              "      <th>event</th>\n",
              "      <th>film_date</th>\n",
              "      <th>published_date</th>\n",
              "      <th>views</th>\n",
              "      <th>comments</th>\n",
              "      <th>tags</th>\n",
              "      <th>languages</th>\n",
              "      <th>ratings</th>\n",
              "    </tr>\n",
              "    <tr>\n",
              "      <th>ID</th>\n",
              "      <th></th>\n",
              "      <th></th>\n",
              "      <th></th>\n",
              "      <th></th>\n",
              "      <th></th>\n",
              "      <th></th>\n",
              "      <th></th>\n",
              "      <th></th>\n",
              "      <th></th>\n",
              "      <th></th>\n",
              "      <th></th>\n",
              "      <th></th>\n",
              "      <th></th>\n",
              "      <th></th>\n",
              "    </tr>\n",
              "  </thead>\n",
              "  <tbody>\n",
              "    <tr>\n",
              "      <th>59</th>\n",
              "      <td>A dance of \"Symbiosis\"</td>\n",
              "      <td>Two Pilobolus dancers perform \"Symbiosis.\" Doe...</td>\n",
              "      <td>Pilobolus</td>\n",
              "      <td>Dance company</td>\n",
              "      <td>1</td>\n",
              "      <td>825</td>\n",
              "      <td>TED2005</td>\n",
              "      <td>1109289600</td>\n",
              "      <td>1170979860</td>\n",
              "      <td>3051507</td>\n",
              "      <td>222</td>\n",
              "      <td>['dance', 'entertainment', 'nature', 'performa...</td>\n",
              "      <td>0</td>\n",
              "      <td>[{'id': 1, 'name': 'Beautiful', 'count': 1810}...</td>\n",
              "    </tr>\n",
              "    <tr>\n",
              "      <th>116</th>\n",
              "      <td>A string quartet plays \"Blue Room\"</td>\n",
              "      <td>The avant-garde string quartet Ethel performs ...</td>\n",
              "      <td>Ethel</td>\n",
              "      <td>String quartet</td>\n",
              "      <td>1</td>\n",
              "      <td>214</td>\n",
              "      <td>TED2006</td>\n",
              "      <td>1138838400</td>\n",
              "      <td>1182184140</td>\n",
              "      <td>384641</td>\n",
              "      <td>27</td>\n",
              "      <td>['cello', 'collaboration', 'culture', 'enterta...</td>\n",
              "      <td>0</td>\n",
              "      <td>[{'id': 1, 'name': 'Beautiful', 'count': 216},...</td>\n",
              "    </tr>\n",
              "    <tr>\n",
              "      <th>136</th>\n",
              "      <td>\"Woza\"</td>\n",
              "      <td>After Vusi Mahlasela's 3-song set at TEDGlobal...</td>\n",
              "      <td>Vusi Mahlasela</td>\n",
              "      <td>Musician, activist</td>\n",
              "      <td>1</td>\n",
              "      <td>299</td>\n",
              "      <td>TEDGlobal 2007</td>\n",
              "      <td>1181260800</td>\n",
              "      <td>1187695440</td>\n",
              "      <td>416603</td>\n",
              "      <td>36</td>\n",
              "      <td>['Africa', 'entertainment', 'guitar', 'live mu...</td>\n",
              "      <td>0</td>\n",
              "      <td>[{'id': 8, 'name': 'Informative', 'count': 4},...</td>\n",
              "    </tr>\n",
              "    <tr>\n",
              "      <th>210</th>\n",
              "      <td>\"M'Bifo\"</td>\n",
              "      <td>Rokia Traore sings the moving \"M'Bifo,\" accomp...</td>\n",
              "      <td>Rokia Traore</td>\n",
              "      <td>Singer-songwriter</td>\n",
              "      <td>1</td>\n",
              "      <td>419</td>\n",
              "      <td>TEDGlobal 2007</td>\n",
              "      <td>1181088000</td>\n",
              "      <td>1206580680</td>\n",
              "      <td>294936</td>\n",
              "      <td>67</td>\n",
              "      <td>['Africa', 'entertainment', 'guitar', 'live mu...</td>\n",
              "      <td>0</td>\n",
              "      <td>[{'id': 23, 'name': 'Jaw-dropping', 'count': 5...</td>\n",
              "    </tr>\n",
              "    <tr>\n",
              "      <th>238</th>\n",
              "      <td>\"Kounandi\"</td>\n",
              "      <td>Singer-songwriter Rokia Traore performs \"Kouna...</td>\n",
              "      <td>Rokia Traore</td>\n",
              "      <td>Singer-songwriter</td>\n",
              "      <td>1</td>\n",
              "      <td>386</td>\n",
              "      <td>TEDGlobal 2007</td>\n",
              "      <td>1181088000</td>\n",
              "      <td>1212627600</td>\n",
              "      <td>82488</td>\n",
              "      <td>43</td>\n",
              "      <td>['Africa', 'guitar', 'live music', 'music', 's...</td>\n",
              "      <td>0</td>\n",
              "      <td>[{'id': 22, 'name': 'Fascinating', 'count': 84...</td>\n",
              "    </tr>\n",
              "    <tr>\n",
              "      <th>...</th>\n",
              "      <td>...</td>\n",
              "      <td>...</td>\n",
              "      <td>...</td>\n",
              "      <td>...</td>\n",
              "      <td>...</td>\n",
              "      <td>...</td>\n",
              "      <td>...</td>\n",
              "      <td>...</td>\n",
              "      <td>...</td>\n",
              "      <td>...</td>\n",
              "      <td>...</td>\n",
              "      <td>...</td>\n",
              "      <td>...</td>\n",
              "      <td>...</td>\n",
              "    </tr>\n",
              "    <tr>\n",
              "      <th>1428</th>\n",
              "      <td>I think we all need a pep talk</td>\n",
              "      <td>Kid President commands you to wake up, listen ...</td>\n",
              "      <td>Kid President</td>\n",
              "      <td>Inspirer</td>\n",
              "      <td>1</td>\n",
              "      <td>208</td>\n",
              "      <td>SoulPancake</td>\n",
              "      <td>1358985600</td>\n",
              "      <td>1359734822</td>\n",
              "      <td>828203</td>\n",
              "      <td>229</td>\n",
              "      <td>['children', 'comedy', 'humor']</td>\n",
              "      <td>0</td>\n",
              "      <td>[{'id': 10, 'name': 'Inspiring', 'count': 771}...</td>\n",
              "    </tr>\n",
              "    <tr>\n",
              "      <th>1468</th>\n",
              "      <td>The technology of touch</td>\n",
              "      <td>As we move through the world, we have an innat...</td>\n",
              "      <td>Katherine Kuchenbecker</td>\n",
              "      <td>Mechanical engineer</td>\n",
              "      <td>1</td>\n",
              "      <td>388</td>\n",
              "      <td>TEDYouth 2012</td>\n",
              "      <td>1353110400</td>\n",
              "      <td>1364569190</td>\n",
              "      <td>274986</td>\n",
              "      <td>183</td>\n",
              "      <td>['TEDYouth', 'engineering', 'technology']</td>\n",
              "      <td>0</td>\n",
              "      <td>[{'id': 9, 'name': 'Ingenious', 'count': 150},...</td>\n",
              "    </tr>\n",
              "    <tr>\n",
              "      <th>1487</th>\n",
              "      <td>How much does a video weigh?</td>\n",
              "      <td>What color is a mirror? How much does a video ...</td>\n",
              "      <td>Michael Stevens</td>\n",
              "      <td>YouTube educator</td>\n",
              "      <td>1</td>\n",
              "      <td>441</td>\n",
              "      <td>TED-Ed</td>\n",
              "      <td>1362009600</td>\n",
              "      <td>1366815569</td>\n",
              "      <td>195899</td>\n",
              "      <td>126</td>\n",
              "      <td>['Internet', 'TED-Ed', 'computers', 'humor', '...</td>\n",
              "      <td>0</td>\n",
              "      <td>[{'id': 22, 'name': 'Fascinating', 'count': 17...</td>\n",
              "    </tr>\n",
              "    <tr>\n",
              "      <th>2408</th>\n",
              "      <td>\"Turceasca\"</td>\n",
              "      <td>Grammy-winning Silk Road Ensemble display thei...</td>\n",
              "      <td>Silk Road Ensemble</td>\n",
              "      <td>Musical explorers</td>\n",
              "      <td>1</td>\n",
              "      <td>389</td>\n",
              "      <td>TED2016</td>\n",
              "      <td>1455494400</td>\n",
              "      <td>1489759215</td>\n",
              "      <td>640734</td>\n",
              "      <td>5</td>\n",
              "      <td>['art', 'live music', 'music', 'performance']</td>\n",
              "      <td>0</td>\n",
              "      <td>[{'id': 1, 'name': 'Beautiful', 'count': 80}, ...</td>\n",
              "    </tr>\n",
              "    <tr>\n",
              "      <th>2419</th>\n",
              "      <td>\"Music for Wood and Strings\"</td>\n",
              "      <td>Sō Percussion creates adventurous compositions...</td>\n",
              "      <td>Sō Percussion</td>\n",
              "      <td>Percussion ensemble</td>\n",
              "      <td>1</td>\n",
              "      <td>609</td>\n",
              "      <td>TED2016</td>\n",
              "      <td>1455494400</td>\n",
              "      <td>1490963646</td>\n",
              "      <td>767660</td>\n",
              "      <td>11</td>\n",
              "      <td>['live music', 'music', 'performance', 'perfor...</td>\n",
              "      <td>0</td>\n",
              "      <td>[{'id': 21, 'name': 'Unconvincing', 'count': 8...</td>\n",
              "    </tr>\n",
              "  </tbody>\n",
              "</table>\n",
              "<p>86 rows × 14 columns</p>\n",
              "</div>"
            ],
            "text/plain": [
              "                                   title  ...                                            ratings\n",
              "ID                                        ...                                                   \n",
              "59                A dance of \"Symbiosis\"  ...  [{'id': 1, 'name': 'Beautiful', 'count': 1810}...\n",
              "116   A string quartet plays \"Blue Room\"  ...  [{'id': 1, 'name': 'Beautiful', 'count': 216},...\n",
              "136                               \"Woza\"  ...  [{'id': 8, 'name': 'Informative', 'count': 4},...\n",
              "210                             \"M'Bifo\"  ...  [{'id': 23, 'name': 'Jaw-dropping', 'count': 5...\n",
              "238                           \"Kounandi\"  ...  [{'id': 22, 'name': 'Fascinating', 'count': 84...\n",
              "...                                  ...  ...                                                ...\n",
              "1428      I think we all need a pep talk  ...  [{'id': 10, 'name': 'Inspiring', 'count': 771}...\n",
              "1468             The technology of touch  ...  [{'id': 9, 'name': 'Ingenious', 'count': 150},...\n",
              "1487        How much does a video weigh?  ...  [{'id': 22, 'name': 'Fascinating', 'count': 17...\n",
              "2408                         \"Turceasca\"  ...  [{'id': 1, 'name': 'Beautiful', 'count': 80}, ...\n",
              "2419        \"Music for Wood and Strings\"  ...  [{'id': 21, 'name': 'Unconvincing', 'count': 8...\n",
              "\n",
              "[86 rows x 14 columns]"
            ]
          },
          "metadata": {
            "tags": []
          },
          "execution_count": 137
        }
      ]
    },
    {
      "cell_type": "markdown",
      "metadata": {
        "id": "pFGOYbZjhTdz",
        "colab_type": "text"
      },
      "source": [
        "We notice that ```languages``` appeared to have a value of 0. This is okay because these are performance. We can keep them."
      ]
    },
    {
      "cell_type": "markdown",
      "metadata": {
        "id": "Xw8wEXY2fAIE",
        "colab_type": "text"
      },
      "source": [
        "Next, we also want to check the occupation of those speakers since we noticed that there are some regular expressions used."
      ]
    },
    {
      "cell_type": "code",
      "metadata": {
        "id": "4DzWmy3MlNZD",
        "colab_type": "code",
        "colab": {
          "base_uri": "https://localhost:8080/",
          "height": 68
        },
        "outputId": "6ebb96b0-f7ea-44fe-f4d7-31c9da056e31"
      },
      "source": [
        "df['speaker_occupation'].unique()"
      ],
      "execution_count": 138,
      "outputs": [
        {
          "output_type": "execute_result",
          "data": {
            "text/plain": [
              "array(['Author/educator', 'Climate advocate', 'Technology columnist', ...,\n",
              "       'Historian, philosopher', 'Astrobiologist', ' Robotics engineer'],\n",
              "      dtype=object)"
            ]
          },
          "metadata": {
            "tags": []
          },
          "execution_count": 138
        }
      ]
    },
    {
      "cell_type": "code",
      "metadata": {
        "id": "vr0EGHPHvLe5",
        "colab_type": "code",
        "colab": {
          "base_uri": "https://localhost:8080/",
          "height": 136
        },
        "outputId": "8b9d6917-4645-4dcb-d337-4969e6d8ee27"
      },
      "source": [
        "# Lowercase all job to make it case-insensitive\n",
        "df['speaker_occupation'] = df['speaker_occupation'].str.lower()\n",
        "df['speaker_occupation'].head()"
      ],
      "execution_count": 139,
      "outputs": [
        {
          "output_type": "execute_result",
          "data": {
            "text/plain": [
              "ID\n",
              "1                         author/educator\n",
              "2                        climate advocate\n",
              "3                    technology columnist\n",
              "4      activist for environmental justice\n",
              "5    global health expert; data visionary\n",
              "Name: speaker_occupation, dtype: object"
            ]
          },
          "metadata": {
            "tags": []
          },
          "execution_count": 139
        }
      ]
    },
    {
      "cell_type": "code",
      "metadata": {
        "id": "g_WtRkynmRTi",
        "colab_type": "code",
        "colab": {
          "base_uri": "https://localhost:8080/",
          "height": 34
        },
        "outputId": "c83c4914-27b6-463d-e3a3-52a2e6d40e5a"
      },
      "source": [
        "# Find all the errors in our speaker_occupation.\n",
        "lst = list(df['speaker_occupation'].values.flatten())\n",
        "regex = r'[^\\w\\s\\,]'\n",
        "char_list = []\n",
        "job_list = []\n",
        "for job in lst:\n",
        "  for char in re.findall(regex,job): \n",
        "    char_list.append(char)\n",
        "    job_list.append(job)\n",
        "set(char_list)"
      ],
      "execution_count": 140,
      "outputs": [
        {
          "output_type": "execute_result",
          "data": {
            "text/plain": [
              "{\"'\", '(', ')', '+', '-', '.', '/', ';', '\\xad', '’', '\\ufeff'}"
            ]
          },
          "metadata": {
            "tags": []
          },
          "execution_count": 140
        }
      ]
    },
    {
      "cell_type": "code",
      "metadata": {
        "id": "5a9rf2IhsRY4",
        "colab_type": "code",
        "colab": {
          "base_uri": "https://localhost:8080/",
          "height": 1000
        },
        "outputId": "0a866edb-499c-4c7a-d153-20b0ad090a9f"
      },
      "source": [
        "# Find all the strings that contains those errors\n",
        "# total 169 strings\n",
        "job_list"
      ],
      "execution_count": 141,
      "outputs": [
        {
          "output_type": "execute_result",
          "data": {
            "text/plain": [
              "['author/educator',\n",
              " 'global health expert; data visionary',\n",
              " 'life coach; expert in leadership psychology',\n",
              " 'co-founder, architecture for humanity',\n",
              " 'human-computer interface designer',\n",
              " 'blogger; cofounder, six apart',\n",
              " 'psychologist; happiness expert',\n",
              " 'president-elect of afghanistan',\n",
              " 'mathematician; statistician',\n",
              " 'primatologist; environmentalist',\n",
              " 'designer; creative director, ideo',\n",
              " 'experimental audio-visual artist',\n",
              " 'singer/songwriter',\n",
              " 'cellist; singer-songwriter',\n",
              " 'cellist; singer-songwriter',\n",
              " 'singer/songwriter',\n",
              " 'singer/songwriter',\n",
              " 'singer/songwriter',\n",
              " 'interaction designer; software developer',\n",
              " \"general manager of microsoft's virtual earth\",\n",
              " 'global health expert; data visionary',\n",
              " 'assumption-busting economist',\n",
              " 'singer/songwriter',\n",
              " 'singer-songwriter',\n",
              " 'human-computer interaction researcher',\n",
              " 'ceo, public radio international (pri)',\n",
              " 'ceo, public radio international (pri)',\n",
              " 'singer-songwriter',\n",
              " 'singer/songwriter',\n",
              " 'singer/songwriter',\n",
              " 'close-up card magician',\n",
              " 'singer/songwriter',\n",
              " 'primatologist; environmentalist',\n",
              " 'physician, disaster-preparedness activist',\n",
              " 'psychologist; happiness expert',\n",
              " 'world-builder',\n",
              " 'twitter co-founder',\n",
              " 'philosopher-comic',\n",
              " 'global health expert; data visionary',\n",
              " 'sustainable-business pioneer',\n",
              " 'experimental audio-visual artist',\n",
              " 'micro-sculptor',\n",
              " 'hip-hop artist',\n",
              " 'global health expert; data visionary',\n",
              " 'co-founder, architecture for humanity',\n",
              " 'global health expert; data visionary',\n",
              " 'anti-trafficking crusader',\n",
              " 'x-ray visionary',\n",
              " 'anti-slavery activist',\n",
              " 'singer/songwriter',\n",
              " 'author/educator',\n",
              " 'global health expert; data visionary',\n",
              " 'psycho-economist',\n",
              " 'hiv/aids fighter',\n",
              " 'activist, singer-songwriter',\n",
              " 'global health expert; data visionary',\n",
              " 'labor-rights activist',\n",
              " 'website co-founders',\n",
              " 'author/educator',\n",
              " 'op-ed columnist ',\n",
              " 'global health expert; data visionary',\n",
              " \"berkeley bionics' ceo\",\n",
              " '9/11 mothers',\n",
              " 'executive chair, ford motor co.',\n",
              " 'e-patient',\n",
              " 'anti-extremism activist',\n",
              " 'anti-hunger leader',\n",
              " 'techno-illusionist',\n",
              " 'techno-illusionist',\n",
              " 'anti-torture activist',\n",
              " 'singer-songwriter',\n",
              " 'psycho-economist',\n",
              " 'economist, techno-activist',\n",
              " 'public-interest lawyer',\n",
              " 'techno-illusionist',\n",
              " 'neuroscience phd student + writer',\n",
              " 'global health expert; data visionary',\n",
              " 'high-wire artist',\n",
              " 'satellite archaeologist + ted prize winner',\n",
              " 'techno-illusionist',\n",
              " 'anti-poverty activist',\n",
              " 'femto-photographer',\n",
              " 'open-government expert',\n",
              " 'techno-illusionist',\n",
              " 'author/illustrator',\n",
              " 'former u.s. secretary of state',\n",
              " 'former u.s. secretary of state',\n",
              " 'know-it-all',\n",
              " 'know-it-all',\n",
              " 'yo-yo champion',\n",
              " 'author/educator',\n",
              " 'anti-sexism educator',\n",
              " 'sci-fi author',\n",
              " 'women’s rights activist',\n",
              " 'anti-corruption activist',\n",
              " 'multi-sense designer',\n",
              " 'emerging-markets economist',\n",
              " 'value-based health care advocate',\n",
              " 'community-minded architect',\n",
              " \"women's-health expert\",\n",
              " \"women's-health expert\",\n",
              " 'entrepreneur, animator, philanthropist ...',\n",
              " 'entrepreneur, animator, philanthropist ...',\n",
              " 'entrepreneur, animator, philanthropist ...',\n",
              " 'anti-corruption activist',\n",
              " 'former u.s. representative and nasa astronaut; survivors',\n",
              " 'former u.s. representative and nasa astronaut; survivors',\n",
              " 'former u.s. representative and nasa astronaut; survivors',\n",
              " 'op-ed columnist ',\n",
              " 'techno-illusionist',\n",
              " 'vagabond photojournalist + conceptual artist',\n",
              " 'open-science advocate',\n",
              " 'psychologist; happiness expert',\n",
              " 'architect + ecotourism specialist',\n",
              " 'author/illustrator',\n",
              " 'science historian + writer',\n",
              " 'photographer + storyteller',\n",
              " 'comedian + designer',\n",
              " 'eco-entrepreneur',\n",
              " 'global health expert; data visionary',\n",
              " 'photographer + visual artist',\n",
              " \"children's book author\",\n",
              " 'self-esteem advocate',\n",
              " 'public-health expert',\n",
              " 'vagabond photojournalist + conceptual artist',\n",
              " 'chaplain + author',\n",
              " 'drug-resistance economist',\n",
              " 'mother + als advocate',\n",
              " 'human-rights activist',\n",
              " 'anti-guerrilla creative',\n",
              " 'attorney + privacy advocate',\n",
              " 'graffiti artist + activist',\n",
              " 'entrepreneur + educator',\n",
              " 'cross-cultural consultant',\n",
              " 'techno-sociologist',\n",
              " 'women’s rights activist and entrepreneur',\n",
              " 'children’s rights activist',\n",
              " 'neuroscientist, stand-up comic',\n",
              " 'director/choreographer, dancer',\n",
              " 'singer-songwriter',\n",
              " 'open-source engineer and artist',\n",
              " 'writer, coach, artist ...',\n",
              " 'writer, coach, artist ...',\n",
              " 'writer, coach, artist ...',\n",
              " 'singer-songwriter',\n",
              " \"women's health pioneer\",\n",
              " 'singer-songwriter',\n",
              " 'designate secretary-general of the united nations',\n",
              " 'marine biologist, explorer-photographer',\n",
              " 'human-computer interaction researcher and designer',\n",
              " 'big data techno-\\xadoptimist and internist',\n",
              " 'big data techno-\\xadoptimist and internist',\n",
              " 'designer, co-founder of airbnb',\n",
              " 'ceo and co-founder, irelaunch',\n",
              " 'gun-control activist',\n",
              " 'social entrepreneur, co-founder of menstrupedia',\n",
              " \"researchers' dream donator\",\n",
              " 'writer, activist and legal analyst\\ufeff',\n",
              " 'physician and men’s health advocate',\n",
              " 'anti-hunger activist',\n",
              " \"women's advocate\",\n",
              " 'eco-entrepreneur',\n",
              " 'satellite archaeologist + ted prize winner',\n",
              " 'bioelectronics innovator\\ufeff',\n",
              " 'techno-sociologist',\n",
              " 'satellite archaeologist + ted prize winner',\n",
              " \"tv journalist, women's empowerment advocate\",\n",
              " \"women's health advocate\",\n",
              " 'attorney, public-interest activist']"
            ]
          },
          "metadata": {
            "tags": []
          },
          "execution_count": 141
        }
      ]
    },
    {
      "cell_type": "markdown",
      "metadata": {
        "id": "z1XR55N73Ibk",
        "colab_type": "text"
      },
      "source": [
        "However we noticed that some regex is needed in certain cases such as '9/11 mothers', 'co-founder', etc.\n",
        "Therefore we must analyze case-by-case and find specific strings that need converting."
      ]
    },
    {
      "cell_type": "code",
      "metadata": {
        "id": "oXKKoD2Q3ihx",
        "colab_type": "code",
        "colab": {
          "base_uri": "https://localhost:8080/",
          "height": 34
        },
        "outputId": "9adc0494-dcf5-41e0-a733-424cd5656632"
      },
      "source": [
        "wrong_job = ['author/educator',\n",
        "'global health expert; data visionary',\n",
        "'life coach; expert in leadership psychology',\n",
        "'blogger; cofounder, six apart',\n",
        "'psychologist; happiness expert',\n",
        "'mathematician; statistician'\n",
        "'primatologist; environmentalist',\n",
        "'designer; creative director, ideo',\n",
        "'singer/songwriter',\n",
        "'cellist; singer-songwriter',\n",
        "'interaction designer; software developer',\n",
        "'singer-songwriter',\n",
        "'ceo, public radio international (pri)',\n",
        "'primatologist; environmentalist',\n",
        "'psychologist; happiness expert',\n",
        "'activist, singer-songwriter',\n",
        "\"berkeley bionics' ceo\",\n",
        "'executive chair, ford motor co.',\n",
        "'neuroscience phd student + writer',\n",
        "'satellite archaeologist + ted prize winner',\n",
        "'author/illustrator',\n",
        "'entrepreneur, animator, philanthropist ...',\n",
        "'former u.s. representative and nasa astronaut; survivors',\n",
        "'vagabond photojournalist + conceptual artist',\n",
        "'architect + ecotourism specialist',\n",
        "'science historian + writer',\n",
        "'photographer + storyteller',\n",
        "'comedian + designer',\n",
        "'photographer + visual artist',\n",
        "'vagabond photojournalist + conceptual artist',\n",
        "'chaplain + author',\n",
        "'mother + als advocate',\n",
        "'attorney + privacy advocate',\n",
        "'graffiti artist + activist',\n",
        "'entrepreneur + educator',\n",
        "'women’s rights activist and entrepreneur',\n",
        "'director/choreographer, dancer',\n",
        "'marine biologist, explorer-photographer',\n",
        "'human-computer interaction researcher and designer',\n",
        "'big data techno-\\xadoptimist and internist',\n",
        "'ceo and co-founder, irelaunch',\n",
        "'writer, activist and legal analyst\\ufeff',\n",
        "'physician and men’s health advocate',\n",
        "'satellite archaeologist + ted prize winner',\n",
        "'bioelectronics innovator\\ufeff',\n",
        "'satellite archaeologist + ted prize winner',\n",
        "\"tv journalist, women's empowerment advocate\"]\n",
        "len(wrong_job)"
      ],
      "execution_count": 142,
      "outputs": [
        {
          "output_type": "execute_result",
          "data": {
            "text/plain": [
              "46"
            ]
          },
          "metadata": {
            "tags": []
          },
          "execution_count": 142
        }
      ]
    },
    {
      "cell_type": "code",
      "metadata": {
        "id": "6C8vG9nrwKfw",
        "colab_type": "code",
        "colab": {
          "base_uri": "https://localhost:8080/",
          "height": 799
        },
        "outputId": "20bc5edd-f792-43aa-d31d-fe1cf8e26540"
      },
      "source": [
        "# Replace all unwanted characters\n",
        "right_job = [re.sub(r'\\ufeff|\\.\\.\\.', '', job) for job in wrong_job]\n",
        "right_job = [re.sub(r'(\\s\\+|\\sand|;)', ',', job) for job in right_job]\n",
        "right_job = [re.sub(r'(\\/|-)', ', ', job) for job in right_job]\n",
        "right_job"
      ],
      "execution_count": 143,
      "outputs": [
        {
          "output_type": "execute_result",
          "data": {
            "text/plain": [
              "['author, educator',\n",
              " 'global health expert, data visionary',\n",
              " 'life coach, expert in leadership psychology',\n",
              " 'blogger, cofounder, six apart',\n",
              " 'psychologist, happiness expert',\n",
              " 'mathematician, statisticianprimatologist, environmentalist',\n",
              " 'designer, creative director, ideo',\n",
              " 'singer, songwriter',\n",
              " 'cellist, singer, songwriter',\n",
              " 'interaction designer, software developer',\n",
              " 'singer, songwriter',\n",
              " 'ceo, public radio international (pri)',\n",
              " 'primatologist, environmentalist',\n",
              " 'psychologist, happiness expert',\n",
              " 'activist, singer, songwriter',\n",
              " \"berkeley bionics' ceo\",\n",
              " 'executive chair, ford motor co.',\n",
              " 'neuroscience phd student, writer',\n",
              " 'satellite archaeologist, ted prize winner',\n",
              " 'author, illustrator',\n",
              " 'entrepreneur, animator, philanthropist ',\n",
              " 'former u.s. representative, nasa astronaut, survivors',\n",
              " 'vagabond photojournalist, conceptual artist',\n",
              " 'architect, ecotourism specialist',\n",
              " 'science historian, writer',\n",
              " 'photographer, storyteller',\n",
              " 'comedian, designer',\n",
              " 'photographer, visual artist',\n",
              " 'vagabond photojournalist, conceptual artist',\n",
              " 'chaplain, author',\n",
              " 'mother, als advocate',\n",
              " 'attorney, privacy advocate',\n",
              " 'graffiti artist, activist',\n",
              " 'entrepreneur, educator',\n",
              " 'women’s rights activist, entrepreneur',\n",
              " 'director, choreographer, dancer',\n",
              " 'marine biologist, explorer, photographer',\n",
              " 'human, computer interaction researcher, designer',\n",
              " 'big data techno, \\xadoptimist, internist',\n",
              " 'ceo, co, founder, irelaunch',\n",
              " 'writer, activist, legal analyst',\n",
              " 'physician, men’s health advocate',\n",
              " 'satellite archaeologist, ted prize winner',\n",
              " 'bioelectronics innovator',\n",
              " 'satellite archaeologist, ted prize winner',\n",
              " \"tv journalist, women's empowerment advocate\"]"
            ]
          },
          "metadata": {
            "tags": []
          },
          "execution_count": 143
        }
      ]
    },
    {
      "cell_type": "code",
      "metadata": {
        "id": "CY1Q3kfc6MR6",
        "colab_type": "code",
        "colab": {
          "base_uri": "https://localhost:8080/",
          "height": 68
        },
        "outputId": "f4713bd0-90c2-470d-896f-1ff90aa8a9f7"
      },
      "source": [
        "# Hard code the result again for right job\n",
        "right_job = ['author, educator',\n",
        " 'global health expert, data visionary',\n",
        " 'life coach, expert in leadership psychology',\n",
        " 'blogger, cofounder, six apart',\n",
        " 'psychologist, happiness expert',\n",
        " 'mathematician, statisticianprimatologist, environmentalist',\n",
        " 'designer, creative director, ideo',\n",
        " 'singer, songwriter',\n",
        " 'cellist, singer, songwriter',\n",
        " 'interaction designer, software developer',\n",
        " 'singer, songwriter',\n",
        " 'ceo',\n",
        " 'primatologist, environmentalist',\n",
        " 'psychologist, happiness expert',\n",
        " 'activist, singer, songwriter',\n",
        " 'ceo',\n",
        " 'executive chair',\n",
        " 'neuroscience phd student, writer',\n",
        " 'satellite archaeologist, ted prize winner',\n",
        " 'author, illustrator',\n",
        " 'entrepreneur, animator, philanthropist ',\n",
        " 'former u.s. representative, nasa astronaut, survivors',\n",
        " 'vagabond photojournalist, conceptual artist',\n",
        " 'architect, ecotourism specialist',\n",
        " 'science historian, writer',\n",
        " 'photographer, storyteller',\n",
        " 'comedian, designer',\n",
        " 'photographer, visual artist',\n",
        " 'vagabond photojournalist, conceptual artist',\n",
        " 'chaplain, author',\n",
        " 'mother, als advocate',\n",
        " 'attorney, privacy advocate',\n",
        " 'graffiti artist, activist',\n",
        " 'entrepreneur, educator',\n",
        " 'women’s rights activist, entrepreneur',\n",
        " 'director, choreographer, dancer',\n",
        " 'marine biologist, explorer, photographer',\n",
        " 'human, computer interaction researcher, designer',\n",
        " 'big data techno-adoptimist, internist',\n",
        " 'ceo, co-founder',\n",
        " 'writer, activist, legal analyst',\n",
        " 'physician, men’s health advocate',\n",
        " 'satellite archaeologist, ted-prize winner',\n",
        " 'bioelectronics innovator',\n",
        " 'satellite archaeologist, ted-prize winner',\n",
        " \"tv-journalist, women's empowerment advocate\"]\n",
        "\n",
        "for w, r in zip(wrong_job, right_job):\n",
        "  df['speaker_occupation'].replace(w, r, inplace= True)\n",
        "df['speaker_occupation'].unique()"
      ],
      "execution_count": 144,
      "outputs": [
        {
          "output_type": "execute_result",
          "data": {
            "text/plain": [
              "array(['author, educator', 'climate advocate', 'technology columnist',\n",
              "       ..., 'historian, philosopher', 'astrobiologist',\n",
              "       ' robotics engineer'], dtype=object)"
            ]
          },
          "metadata": {
            "tags": []
          },
          "execution_count": 144
        }
      ]
    },
    {
      "cell_type": "markdown",
      "metadata": {
        "id": "sp825GmwnpNX",
        "colab_type": "text"
      },
      "source": [
        "Lastly, we check the number of unique event names then list all of them."
      ]
    },
    {
      "cell_type": "code",
      "metadata": {
        "id": "s19EwZhRgay7",
        "colab_type": "code",
        "outputId": "fac03b71-0cfd-45f3-df0d-004f382aaa62",
        "colab": {
          "base_uri": "https://localhost:8080/",
          "height": 1000
        }
      },
      "source": [
        "df['event'].unique()"
      ],
      "execution_count": 145,
      "outputs": [
        {
          "output_type": "execute_result",
          "data": {
            "text/plain": [
              "array(['TED2006', 'TED2004', 'TED2005', 'TEDGlobal 2005', 'TEDSalon 2006',\n",
              "       'TED2003', 'TED2007', 'TED2002', 'TEDGlobal 2007',\n",
              "       'TEDSalon 2007 Hot Science', 'Skoll World Forum 2007', 'TED2008',\n",
              "       'TED1984', 'TED1990', 'DLD 2007', 'EG 2007', 'TED1998',\n",
              "       'LIFT 2007', 'TED Prize Wish', 'TEDSalon 2009 Compassion',\n",
              "       'Chautauqua Institution', 'Serious Play 2008', 'Taste3 2008',\n",
              "       'TED2001', 'TED in the Field', 'TED2009', 'EG 2008',\n",
              "       'Elizabeth G. Anderson School', 'TEDxUSC', 'TED@State',\n",
              "       'TEDGlobal 2009', 'TEDxKC', 'TEDIndia 2009',\n",
              "       'TEDSalon London 2009', 'Justice with Michael Sandel',\n",
              "       'Business Innovation Factory', 'TEDxTC',\n",
              "       'Carnegie Mellon University', 'Stanford University',\n",
              "       'AORN Congress', 'University of California', 'TEDMED 2009',\n",
              "       'Royal Institution', 'Bowery Poetry Club', 'TEDxSMU',\n",
              "       'Harvard University', 'TEDxBoston 2009', 'TEDxBerlin', 'TED2010',\n",
              "       'TEDxAmsterdam', 'World Science Festival', 'BBC TV',\n",
              "       'Arbejdsglaede Live', 'Web 2.0 Expo 2008', 'TEDxNASA',\n",
              "       'Michael Howard Studios', 'DICE Summit 2010',\n",
              "       \"Eric Whitacre's Virtual Choir\", 'Mission Blue Voyage',\n",
              "       'TEDxPuget Sound ', 'TEDxNYED', 'Toronto Youth Corps',\n",
              "       'TEDSalon London 2010', 'TEDxEdmonton', 'TED@Cannes',\n",
              "       'TEDxAtlanta', 'TEDxEast', 'TEDxOilSpill', 'TEDGlobal 2010',\n",
              "       'Princeton University', 'New York State Senate', 'TEDxBoston 2010',\n",
              "       'RSA Animate', 'TEDxYYC', 'Gel Conference', 'The Do Lectures',\n",
              "       'TEDxChange', 'TED Senior Fellows at TEDGlobal 2010',\n",
              "       'Fort Worth City Council', 'TEDxTelAviv 2010', 'TEDxDU 2010',\n",
              "       'TEDxMidwest', 'TEDxHouston', 'TEDxNextGenerationAsheville',\n",
              "       'TEDxRotterdam 2010', 'TEDWomen 2010', 'TEDxMidAtlantic',\n",
              "       'TEDxSydney', 'TEDSalon NY2011', 'TEDxRainier', 'TEDxToronto 2010',\n",
              "       'TEDxPSU', 'TEDMED 2010', 'TEDxGreatPacificGarbagePatch',\n",
              "       'TEDxGöteborg 2010', 'TEDxToronto 2011', 'TED@MotorCity',\n",
              "       'TEDxPennQuarter', 'TEDPrize@UN', 'TED2011', 'TEDxPeachtree',\n",
              "       'TEDxDubai', 'TEDActive 2011', 'INK Conference', 'TEDxCaltech',\n",
              "       'TEDxWarwick', 'Handheld Learning', 'TEDxSiliconValley',\n",
              "       'TEDxNorthwesternU', 'TEDxMaastricht', 'TEDxBG',\n",
              "       'Full Spectrum Auditions', 'TEDSalon London Spring 2011',\n",
              "       'TEDxSanMigueldeAllende', 'TEDGlobal 2011', 'TEDxBoston 2011',\n",
              "       'TEDxParis 2010', 'NextGen:Charity', 'TEDxUIUC',\n",
              "       'TEDxThessaloniki', \"TEDxO'Porto\", 'TEDxBloomington',\n",
              "       'TEDxSantaCruz', 'TEDxWaterloo', 'TEDxManhattanBeach',\n",
              "       'TEDxKids@Brussels', 'TEDxTeen', 'TEDxBoulder 2011',\n",
              "       'TEDxManhattan', 'TEDxOrangeCoast', 'TEDxBrussels', 'TEDMED 2011',\n",
              "       'TEDxKrakow', 'TEDxCMU', 'TEDxVienna', 'TEDxDU 2011', 'TEDxDirigo',\n",
              "       'TEDxCanberra', 'TEDxRC2', 'TEDxWomen 2011', 'TEDxZurich 2011',\n",
              "       'TEDSalon NY2012', 'TEDxMIA', 'TEDxNASA@SiliconValley',\n",
              "       'TEDxYouth@Manchester', 'TED1994', 'TEDxVancouver',\n",
              "       'TEDSalon London Fall 2011', 'TEDxIslay', 'TEDxAmericanRiviera',\n",
              "       'TEDxDublin', 'TEDxVictoria', 'TEDxPhoenix', 'TEDxAsheville',\n",
              "       'TEDYouth 2011', 'TED2012', 'TEDxUW', 'TED-Ed', 'TEDxCambridge',\n",
              "       'TEDxPortofSpain', 'TEDxNewy', 'TEDxPittsburgh', 'TEDxObserver',\n",
              "       'TEDxConcordiaUPortland', 'TEDxAthens', 'TED@SXSWi', 'TEDxAustin',\n",
              "       'TEDxMonterey', 'TEDxSummit', 'TEDxBerkeley',\n",
              "       'TEDxHogeschoolUtrecht', 'TEDxSanJoseCA', 'TEDxSussexUniversity',\n",
              "       'TEDMED 2012', 'TEDSalon London Spring 2012', 'TEDxGrandRapids',\n",
              "       'TEDxABQ', 'TEDxSanDiego', 'TEDxLondonBusinessSchool',\n",
              "       'TEDGlobal 2012', 'TEDxStanford', 'TEDxImperialCollege',\n",
              "       'TEDxBoston 2012', 'TEDxUCL', 'TEDxExeter', 'TEDxMaui',\n",
              "       'TEDxHousesOfParliament', 'TED@London', 'TEDxWinnipeg',\n",
              "       'TED@Bangalore', 'TED@New York', 'TEDxCHUV', 'TEDxSF',\n",
              "       'TEDxEQChCh', 'TEDxHelvetia', 'TED@Nairobi', 'TEDxGeorgetown',\n",
              "       'TED@Johannesburg', 'TEDxZurich 2012', 'TEDSalon London Fall 2012',\n",
              "       'TEDxWitsUniversity', 'TEDxJaffa 2012', 'TEDxWomen 2012',\n",
              "       'TEDxHampshireCollege', 'TEDxGoodenoughCollege', 'TEDxGlasgow',\n",
              "       'TEDxBeaconStreet', 'SoulPancake', 'TEDxDelft', 'TEDSalon NY2013',\n",
              "       'TEDxSeoul', 'TEDxConcorde', 'TED2013', 'TEDYouth 2012',\n",
              "       'TEDxSeattleU', 'TEDxRiodelaPlata', 'TED@Intel',\n",
              "       'TED Talks Education', 'TEDxMiamiUniversity', 'TEDxFiDiWomen',\n",
              "       'TEDxDeExtinction', 'TEDMED 2013', 'TEDGlobal 2013', 'TEDxCERN',\n",
              "       'TEDxNijmegen', 'TEDxColbyCollege', 'TEDxDanubia', 'TEDxTokyo',\n",
              "       'TEDxBoston', 'TEDxKids@Ambleside', 'TEDCity2.0', 'TEDxUdeM',\n",
              "       'TED@BCG Singapore', 'TED@NYC', 'TEDWomen 2013', 'TEDYouth 2013',\n",
              "       'TEDxBratislava', 'TED@BCG San Francisco', 'TEDxMet', 'TEDxMarin',\n",
              "       'TEDxBeirut', 'TED@State Street Boston', 'TEDxCaFoscariU',\n",
              "       'TEDxJaffa 2013', 'TEDxZurich 2013', 'TED Fellows Retreat 2013',\n",
              "       'TEDxParis 2012', 'TEDxBoulder', 'TED2014', 'TEDxMidAtlantic 2013',\n",
              "       'TEDxPerth', 'TEDxUMKC', 'TEDxLeuvenSalon', 'TEDActive 2014',\n",
              "       'TEDSalon NY2014', 'TEDxUofM', 'TEDxColumbus',\n",
              "       'TEDSalon Berlin 2014', 'TEDxKyoto', 'TEDxClaremontColleges',\n",
              "       'TEDxMonroeCorrectionalComplex', 'TEDxBrighton',\n",
              "       'TEDxSonomaCounty', 'TEDxAmazonia', 'TED@Unilever', 'TEDMED 2014',\n",
              "       'TEDGlobal 2014', 'TED@IBM', 'TEDxNewYork', 'TED@BCG Berlin',\n",
              "       'TEDxArendal', 'TEDxNorrkoping', 'TEDYouth 2014',\n",
              "       'TED@State Street London', 'TEDxPlaceDesNations',\n",
              "       'TEDxBinghamtonUniversity', 'TEDxLinnaeusUniversity', 'TEDxSBU',\n",
              "       'TED2015', 'TEDxMuncyStatePrison', 'TEDxSouthBank',\n",
              "       'TEDWomen 2015', 'TEDSalon NY2015', 'TEDGlobalLondon',\n",
              "       'TEDxIndianapolis', 'TED@BCG London', 'TEDxChapmanU',\n",
              "       'TEDxGoldenGatePark 2012', 'TEDxUF', 'TEDxBend',\n",
              "       'TEDGlobal>London', 'TEDxPenn', 'TEDxProvidence',\n",
              "       'TED Fellows Retreat 2015', 'TED Fellows 2015', 'TEDxOslo',\n",
              "       'TEDxCannes', 'Mission Blue II', 'TED@UPS', 'TEDxToulouse',\n",
              "       'TEDYouth 2015', 'TEDxGroningen', 'TEDGlobal>Geneva',\n",
              "       'TEDxYouth@Sydney', 'TEDxAmoskeagMillyard', 'TEDMED 2015',\n",
              "       'TEDxUM', 'TEDxCreativeCoast', 'TED2016', 'TED@StateStreet Boston',\n",
              "       'TED Talks Live', 'Global Witness HQ', 'TED Studio',\n",
              "       'TEDActive 2015', 'TEDxGatewayWomen', 'TEDxEastEnd',\n",
              "       'TED@BCG Paris', 'TEDSummit', 'TEDxDesMoines',\n",
              "       'TEDxColoradoSprings', 'TEDNYC', 'TEDxUniversityofNevada',\n",
              "       'TEDxMontreal', 'TEDxIndianaUniversity', 'TEDWomen 2016',\n",
              "       'TED Residency', 'TEDxToronto', 'TEDxMtHood', 'TEDxGhent',\n",
              "       'TEDxSaltLakeCity', 'TEDxOmaha', 'TEDxSFU', 'TEDMED 2016',\n",
              "       'TEDxPortland', 'TEDxManchester', 'TEDxMileHigh', 'TED Dialogues',\n",
              "       'TEDxNatick', 'TEDxFrankfurt', 'TED-Ed Weekend',\n",
              "       'TEDxColumbusWomen', 'TEDxEuston', 'TEDxSanQuentin',\n",
              "       'TEDLagos Ideas Search', 'TEDxVirginiaTech', 'TED2017',\n",
              "       'TEDxSkoll', 'TEDNairobi Ideas Search', 'TEDxFulbrightDublin',\n",
              "       'TEDxOrcasIsland', 'TEDxPennsylvaniaAvenue', 'TEDxCrenshaw',\n",
              "       'TEDxHamburg', 'TEDGlobal 2017', 'TEDxZurich'], dtype=object)"
            ]
          },
          "metadata": {
            "tags": []
          },
          "execution_count": 145
        }
      ]
    },
    {
      "cell_type": "code",
      "metadata": {
        "id": "4d6M_rDAnUJS",
        "colab_type": "code",
        "outputId": "8f63c7fe-2b4c-461d-d524-3a12a5ee20bc",
        "colab": {
          "base_uri": "https://localhost:8080/",
          "height": 221
        }
      },
      "source": [
        "df['event'].value_counts()"
      ],
      "execution_count": 146,
      "outputs": [
        {
          "output_type": "execute_result",
          "data": {
            "text/plain": [
              "TED2014                       84\n",
              "TED2009                       83\n",
              "TED2013                       77\n",
              "TED2016                       77\n",
              "TED2015                       75\n",
              "                              ..\n",
              "TEDxAtlanta                    1\n",
              "TEDxPuget Sound                1\n",
              "TEDxUCL                        1\n",
              "TEDxLondonBusinessSchool       1\n",
              "Carnegie Mellon University     1\n",
              "Name: event, Length: 355, dtype: int64"
            ]
          },
          "metadata": {
            "tags": []
          },
          "execution_count": 146
        }
      ]
    },
    {
      "cell_type": "markdown",
      "metadata": {
        "id": "Wcgu4qTxoVDp",
        "colab_type": "text"
      },
      "source": [
        "The dataset has 355 unique event names but from the looks of it, lots of these names can be categorised together as they are quite similar. \n",
        "\n",
        "By understanding what these events' main focus, we then can break down the event names in the following 12 categories, each consisting of at least 5 samples:\n",
        "\n",
        "\n",
        "1. TED19: TED talks dated back in the 1900s\n",
        "2. TED20: TED talks in the 2000s\n",
        "3. TEDx: The TEDx program lets individuals, organizations and communities worldwide hold local, independent TED-like events. To date, more than 13,000 TEDx events have been held in 150 countries.\n",
        "4. TEDGlobal: TEDGlobal is a conference that celebrates human ingenuity by exploring ideas, innovation and creativity from all around the world with different themes each year.\n",
        "5. TEDSalon: TED Salons welcome an intimate audience for an afternoon or evening of highly-curated TED Talks revolving around a globally relevant theme. A condensed version of a TED flagship conference, they are distinct in their brevity, opportunities for conversation, and heightened interaction between the speaker and audience.\n",
        "6. TEDWomen: TEDWomen is a three-day conference about the power of women and girls to be creators and change-makers.\n",
        "7. TED@BCG: TED@BCG is a multi-year collaboration with Boston Consulting Group that has been held in Mumbai, Toronto, Milan, Paris, London, Berlin, Singapore, and San Francisco.\n",
        "8. TED@: TED@ is a multi-year collaboration with different partners with touch points across the TED ecosystem.\n",
        "9. TEDYouth: TEDYouth is a day-long event for middle and high school students, with live speakers, hands-on activities and great conversations. Scientists, designers, technologists, explorers, artists, performers (and more!) share short talks on what they do best, serving both as a source of knowledge and inspiration for youth around the globe.\n",
        "10. TEDMED: TEDMED convenes and curates extraordinary people and ideas from all disciplines both inside and outside of medicine in pursuit of unexpected connections that accelerate innovation in health and medicine. Best known for their annual event, TEDMED is a year-round global community. \n",
        "11. TED : Other TED Talks, each focusing on a specific topic. These TED talks includes those filmed at their flagship TED conferences.\n",
        "12. Other: These talks don’t come from TED or any of their partner conferences. These talks come from all over the Web.\n",
        "\n"
      ]
    },
    {
      "cell_type": "code",
      "metadata": {
        "id": "nZ3sKgGcq14y",
        "colab_type": "code",
        "colab": {}
      },
      "source": [
        "def replace_event_cat(event):\n",
        "\n",
        "  # Create a list of Regex to match the 355 events in the column event. \n",
        "  regex_list = ['TED19', 'TED20', 'TEDx', 'TEDGlobal', 'TEDSalon', 'TEDWomen', 'TED@BCG', 'TED@', 'TEDYouth', 'TEDMED', 'TED']\n",
        "\n",
        "  # Replace all values in the event that match regex with the same regex name.\n",
        "  for reg in regex_list:\n",
        "    if re.match(reg, event):\n",
        "      return reg"
      ],
      "execution_count": 0,
      "outputs": []
    },
    {
      "cell_type": "code",
      "metadata": {
        "id": "CLNOdONtPE1C",
        "colab_type": "code",
        "outputId": "28b5e7cc-1a4c-473b-d6d6-7277d8c13e04",
        "colab": {
          "base_uri": "https://localhost:8080/",
          "height": 51
        }
      },
      "source": [
        "# Then replace accordingly with the same index in column event_category, if there is no match return None.\n",
        "df['event_category'] = df['event'].apply(replace_event_cat)\n",
        "\n",
        "df['event_category'].unique()"
      ],
      "execution_count": 148,
      "outputs": [
        {
          "output_type": "execute_result",
          "data": {
            "text/plain": [
              "array(['TED20', 'TEDGlobal', 'TEDSalon', None, 'TED19', 'TED', 'TEDx',\n",
              "       'TED@', 'TEDMED', 'TEDWomen', 'TEDYouth', 'TED@BCG'], dtype=object)"
            ]
          },
          "metadata": {
            "tags": []
          },
          "execution_count": 148
        }
      ]
    },
    {
      "cell_type": "code",
      "metadata": {
        "id": "xtTX9OM79hCb",
        "colab_type": "code",
        "outputId": "bcd9e471-62f2-4077-cbd2-be52e33c3606",
        "colab": {
          "base_uri": "https://localhost:8080/",
          "height": 216
        }
      },
      "source": [
        "df.sample()"
      ],
      "execution_count": 149,
      "outputs": [
        {
          "output_type": "execute_result",
          "data": {
            "text/html": [
              "<div>\n",
              "<style scoped>\n",
              "    .dataframe tbody tr th:only-of-type {\n",
              "        vertical-align: middle;\n",
              "    }\n",
              "\n",
              "    .dataframe tbody tr th {\n",
              "        vertical-align: top;\n",
              "    }\n",
              "\n",
              "    .dataframe thead th {\n",
              "        text-align: right;\n",
              "    }\n",
              "</style>\n",
              "<table border=\"1\" class=\"dataframe\">\n",
              "  <thead>\n",
              "    <tr style=\"text-align: right;\">\n",
              "      <th></th>\n",
              "      <th>title</th>\n",
              "      <th>description</th>\n",
              "      <th>main_speaker</th>\n",
              "      <th>speaker_occupation</th>\n",
              "      <th>num_speaker</th>\n",
              "      <th>duration</th>\n",
              "      <th>event</th>\n",
              "      <th>film_date</th>\n",
              "      <th>published_date</th>\n",
              "      <th>views</th>\n",
              "      <th>comments</th>\n",
              "      <th>tags</th>\n",
              "      <th>languages</th>\n",
              "      <th>ratings</th>\n",
              "      <th>event_category</th>\n",
              "    </tr>\n",
              "    <tr>\n",
              "      <th>ID</th>\n",
              "      <th></th>\n",
              "      <th></th>\n",
              "      <th></th>\n",
              "      <th></th>\n",
              "      <th></th>\n",
              "      <th></th>\n",
              "      <th></th>\n",
              "      <th></th>\n",
              "      <th></th>\n",
              "      <th></th>\n",
              "      <th></th>\n",
              "      <th></th>\n",
              "      <th></th>\n",
              "      <th></th>\n",
              "      <th></th>\n",
              "    </tr>\n",
              "  </thead>\n",
              "  <tbody>\n",
              "    <tr>\n",
              "      <th>955</th>\n",
              "      <td>Taking imagination seriously</td>\n",
              "      <td>Janet Echelman found her true voice as an arti...</td>\n",
              "      <td>Janet Echelman</td>\n",
              "      <td>artist</td>\n",
              "      <td>1</td>\n",
              "      <td>566</td>\n",
              "      <td>TED2011</td>\n",
              "      <td>1299110400</td>\n",
              "      <td>1307489760</td>\n",
              "      <td>1832930</td>\n",
              "      <td>2492</td>\n",
              "      <td>['art', 'cities', 'culture', 'data', 'design',...</td>\n",
              "      <td>35</td>\n",
              "      <td>[{'id': 23, 'name': 'Jaw-dropping', 'count': 3...</td>\n",
              "      <td>TED20</td>\n",
              "    </tr>\n",
              "  </tbody>\n",
              "</table>\n",
              "</div>"
            ],
            "text/plain": [
              "                            title  ... event_category\n",
              "ID                                 ...               \n",
              "955  Taking imagination seriously  ...          TED20\n",
              "\n",
              "[1 rows x 15 columns]"
            ]
          },
          "metadata": {
            "tags": []
          },
          "execution_count": 149
        }
      ]
    },
    {
      "cell_type": "code",
      "metadata": {
        "id": "Iotk6ugZ-MaU",
        "colab_type": "code",
        "outputId": "6e6f1067-675e-48c2-c65c-90b5f6a2988c",
        "colab": {
          "base_uri": "https://localhost:8080/",
          "height": 238
        }
      },
      "source": [
        "# We need to replace all None value to Other:\n",
        "df['event_category'].fillna('Other', inplace = True)\n",
        "df['event_category'].value_counts()"
      ],
      "execution_count": 150,
      "outputs": [
        {
          "output_type": "execute_result",
          "data": {
            "text/plain": [
              "TED20        969\n",
              "TEDx         471\n",
              "TEDGlobal    463\n",
              "TED          178\n",
              "Other        111\n",
              "TEDWomen      96\n",
              "TEDSalon      79\n",
              "TEDMED        68\n",
              "TED@          60\n",
              "TED@BCG       27\n",
              "TEDYouth      19\n",
              "TED19          9\n",
              "Name: event_category, dtype: int64"
            ]
          },
          "metadata": {
            "tags": []
          },
          "execution_count": 150
        }
      ]
    },
    {
      "cell_type": "markdown",
      "metadata": {
        "id": "pR7_34FfpSvn",
        "colab_type": "text"
      },
      "source": [
        "### Handle Datetime columns : Reformatting for better analysis"
      ]
    },
    {
      "cell_type": "code",
      "metadata": {
        "id": "9OFZIpH9SE-D",
        "colab_type": "code",
        "outputId": "37923079-1bf1-4fdc-8362-8513a14216ab",
        "colab": {
          "base_uri": "https://localhost:8080/",
          "height": 199
        }
      },
      "source": [
        "df.sample()"
      ],
      "execution_count": 151,
      "outputs": [
        {
          "output_type": "execute_result",
          "data": {
            "text/html": [
              "<div>\n",
              "<style scoped>\n",
              "    .dataframe tbody tr th:only-of-type {\n",
              "        vertical-align: middle;\n",
              "    }\n",
              "\n",
              "    .dataframe tbody tr th {\n",
              "        vertical-align: top;\n",
              "    }\n",
              "\n",
              "    .dataframe thead th {\n",
              "        text-align: right;\n",
              "    }\n",
              "</style>\n",
              "<table border=\"1\" class=\"dataframe\">\n",
              "  <thead>\n",
              "    <tr style=\"text-align: right;\">\n",
              "      <th></th>\n",
              "      <th>title</th>\n",
              "      <th>description</th>\n",
              "      <th>main_speaker</th>\n",
              "      <th>speaker_occupation</th>\n",
              "      <th>num_speaker</th>\n",
              "      <th>duration</th>\n",
              "      <th>event</th>\n",
              "      <th>film_date</th>\n",
              "      <th>published_date</th>\n",
              "      <th>views</th>\n",
              "      <th>comments</th>\n",
              "      <th>tags</th>\n",
              "      <th>languages</th>\n",
              "      <th>ratings</th>\n",
              "      <th>event_category</th>\n",
              "    </tr>\n",
              "    <tr>\n",
              "      <th>ID</th>\n",
              "      <th></th>\n",
              "      <th></th>\n",
              "      <th></th>\n",
              "      <th></th>\n",
              "      <th></th>\n",
              "      <th></th>\n",
              "      <th></th>\n",
              "      <th></th>\n",
              "      <th></th>\n",
              "      <th></th>\n",
              "      <th></th>\n",
              "      <th></th>\n",
              "      <th></th>\n",
              "      <th></th>\n",
              "      <th></th>\n",
              "    </tr>\n",
              "  </thead>\n",
              "  <tbody>\n",
              "    <tr>\n",
              "      <th>1384</th>\n",
              "      <td>Teen wonders play bluegrass</td>\n",
              "      <td>Brothers Jonny, Robbie and Tommy Mizzone are T...</td>\n",
              "      <td>Sleepy Man Banjo Boys</td>\n",
              "      <td>bluegrass musicians</td>\n",
              "      <td>1</td>\n",
              "      <td>302</td>\n",
              "      <td>TED@New York</td>\n",
              "      <td>1339027200</td>\n",
              "      <td>1353514178</td>\n",
              "      <td>1798001</td>\n",
              "      <td>87</td>\n",
              "      <td>['children', 'entertainment', 'live music', 'p...</td>\n",
              "      <td>33</td>\n",
              "      <td>[{'id': 1, 'name': 'Beautiful', 'count': 285},...</td>\n",
              "      <td>TED@</td>\n",
              "    </tr>\n",
              "  </tbody>\n",
              "</table>\n",
              "</div>"
            ],
            "text/plain": [
              "                            title  ... event_category\n",
              "ID                                 ...               \n",
              "1384  Teen wonders play bluegrass  ...           TED@\n",
              "\n",
              "[1 rows x 15 columns]"
            ]
          },
          "metadata": {
            "tags": []
          },
          "execution_count": 151
        }
      ]
    },
    {
      "cell_type": "markdown",
      "metadata": {
        "id": "SRIo_AGM44lw",
        "colab_type": "text"
      },
      "source": [
        "It is noticed that this data is using Unix time for ```film_date``` and ```published_date```. Unix time is a system for describing a point in time. It is the number of seconds that have elapsed since the Unix epoch, that is the time 00:00:00 UTC on 1 January 1970, minus leap seconds. Therefore we need to convert it into Year, Month and Date."
      ]
    },
    {
      "cell_type": "code",
      "metadata": {
        "id": "vMNhB7V5SE7r",
        "colab_type": "code",
        "outputId": "34592380-5fb2-42c8-fae8-29b6cc80bebc",
        "colab": {
          "base_uri": "https://localhost:8080/",
          "height": 221
        }
      },
      "source": [
        "df['film_date'] = pd.to_datetime(df['film_date'], unit='s')\n",
        "df['film_date'].head(10)"
      ],
      "execution_count": 152,
      "outputs": [
        {
          "output_type": "execute_result",
          "data": {
            "text/plain": [
              "ID\n",
              "1    2006-02-25\n",
              "2    2006-02-25\n",
              "3    2006-02-24\n",
              "4    2006-02-26\n",
              "5    2006-02-22\n",
              "6    2006-02-02\n",
              "7    2006-02-24\n",
              "8    2006-02-23\n",
              "9    2006-02-02\n",
              "10   2006-02-25\n",
              "Name: film_date, dtype: datetime64[ns]"
            ]
          },
          "metadata": {
            "tags": []
          },
          "execution_count": 152
        }
      ]
    },
    {
      "cell_type": "code",
      "metadata": {
        "id": "psUvrQmVSAEv",
        "colab_type": "code",
        "outputId": "7eebb24e-2afe-4c61-e294-f018df714f07",
        "colab": {
          "base_uri": "https://localhost:8080/",
          "height": 221
        }
      },
      "source": [
        "df['published_date'] = pd.to_datetime(df['published_date'],unit='s').dt.to_period('D')\n",
        "df['published_date'].head(10)"
      ],
      "execution_count": 153,
      "outputs": [
        {
          "output_type": "execute_result",
          "data": {
            "text/plain": [
              "ID\n",
              "1     2006-06-27\n",
              "2     2006-06-27\n",
              "3     2006-06-27\n",
              "4     2006-06-27\n",
              "5     2006-06-27\n",
              "6     2006-06-27\n",
              "7     2006-07-10\n",
              "8     2006-07-10\n",
              "9     2006-07-18\n",
              "10    2006-07-18\n",
              "Name: published_date, dtype: period[D]"
            ]
          },
          "metadata": {
            "tags": []
          },
          "execution_count": 153
        }
      ]
    },
    {
      "cell_type": "code",
      "metadata": {
        "id": "DYvHM1lpILcy",
        "colab_type": "code",
        "outputId": "75b65455-aa31-40e3-e663-f5b65e6c69ce",
        "colab": {
          "base_uri": "https://localhost:8080/",
          "height": 199
        }
      },
      "source": [
        "df.sample()"
      ],
      "execution_count": 0,
      "outputs": [
        {
          "output_type": "execute_result",
          "data": {
            "text/html": [
              "<div>\n",
              "<style scoped>\n",
              "    .dataframe tbody tr th:only-of-type {\n",
              "        vertical-align: middle;\n",
              "    }\n",
              "\n",
              "    .dataframe tbody tr th {\n",
              "        vertical-align: top;\n",
              "    }\n",
              "\n",
              "    .dataframe thead th {\n",
              "        text-align: right;\n",
              "    }\n",
              "</style>\n",
              "<table border=\"1\" class=\"dataframe\">\n",
              "  <thead>\n",
              "    <tr style=\"text-align: right;\">\n",
              "      <th></th>\n",
              "      <th>title</th>\n",
              "      <th>description</th>\n",
              "      <th>main_speaker</th>\n",
              "      <th>speaker_occupation</th>\n",
              "      <th>num_speaker</th>\n",
              "      <th>duration</th>\n",
              "      <th>event</th>\n",
              "      <th>film_date</th>\n",
              "      <th>published_date</th>\n",
              "      <th>views</th>\n",
              "      <th>comments</th>\n",
              "      <th>tags</th>\n",
              "      <th>languages</th>\n",
              "      <th>ratings</th>\n",
              "      <th>event_category</th>\n",
              "    </tr>\n",
              "    <tr>\n",
              "      <th>ID</th>\n",
              "      <th></th>\n",
              "      <th></th>\n",
              "      <th></th>\n",
              "      <th></th>\n",
              "      <th></th>\n",
              "      <th></th>\n",
              "      <th></th>\n",
              "      <th></th>\n",
              "      <th></th>\n",
              "      <th></th>\n",
              "      <th></th>\n",
              "      <th></th>\n",
              "      <th></th>\n",
              "      <th></th>\n",
              "      <th></th>\n",
              "    </tr>\n",
              "  </thead>\n",
              "  <tbody>\n",
              "    <tr>\n",
              "      <th>854</th>\n",
              "      <td>Silicon-based comedy</td>\n",
              "      <td>In this first-of-its-kind demo, Heather Knight...</td>\n",
              "      <td>Heather Knight</td>\n",
              "      <td>Roboticist</td>\n",
              "      <td>1</td>\n",
              "      <td>364</td>\n",
              "      <td>TEDWomen 2010</td>\n",
              "      <td>2010-12-08</td>\n",
              "      <td>2011-01-21</td>\n",
              "      <td>757335</td>\n",
              "      <td>114</td>\n",
              "      <td>['AI', 'comedy', 'entertainment', 'humor', 'ro...</td>\n",
              "      <td>30</td>\n",
              "      <td>[{'id': 9, 'name': 'Ingenious', 'count': 162},...</td>\n",
              "      <td>TEDWomen</td>\n",
              "    </tr>\n",
              "  </tbody>\n",
              "</table>\n",
              "</div>"
            ],
            "text/plain": [
              "                    title  ... event_category\n",
              "ID                         ...               \n",
              "854  Silicon-based comedy  ...       TEDWomen\n",
              "\n",
              "[1 rows x 15 columns]"
            ]
          },
          "metadata": {
            "tags": []
          },
          "execution_count": 595
        }
      ]
    },
    {
      "cell_type": "markdown",
      "metadata": {
        "id": "MJ_CxcFf82fG",
        "colab_type": "text"
      },
      "source": [
        "### Handle Tags column"
      ]
    },
    {
      "cell_type": "code",
      "metadata": {
        "id": "votybTP981HC",
        "colab_type": "code",
        "outputId": "a6c846cf-2c43-48d4-dbb9-de4f13e1eaac",
        "colab": {
          "base_uri": "https://localhost:8080/",
          "height": 136
        }
      },
      "source": [
        "pd.set_option('display.max_rows', 100)\n",
        "df['tags'].head()"
      ],
      "execution_count": 161,
      "outputs": [
        {
          "output_type": "execute_result",
          "data": {
            "text/plain": [
              "ID\n",
              "1    ['children', 'creativity', 'culture', 'dance',...\n",
              "2    ['alternative energy', 'cars', 'climate change...\n",
              "3    ['computers', 'entertainment', 'interface desi...\n",
              "4    ['MacArthur grant', 'activism', 'business', 'c...\n",
              "5    ['Africa', 'Asia', 'Google', 'demo', 'economic...\n",
              "Name: tags, dtype: object"
            ]
          },
          "metadata": {
            "tags": []
          },
          "execution_count": 161
        }
      ]
    },
    {
      "cell_type": "code",
      "metadata": {
        "id": "rktA8zHAUn1T",
        "colab_type": "code",
        "colab": {}
      },
      "source": [
        "# Create another table with differnt words extracted from the tags as columns and count the frequency of those words\n",
        "# Firstly, we need to split the tags list into separate rows."
      ],
      "execution_count": 0,
      "outputs": []
    },
    {
      "cell_type": "code",
      "metadata": {
        "id": "U5XcQq2P86jc",
        "colab_type": "code",
        "colab": {}
      },
      "source": [
        "# lst = df['tags'].astype(str)\n",
        "# lst\n",
        "# regex = ['\"', \" \", \",\"]\n",
        "# dct ={}\n",
        "# for i in lst:\n",
        "#   for _ in str(i):\n",
        "#     # if _ not in regex:\n",
        "#       if _ not in dct:\n",
        "#         dct[_]= 1\n",
        "#       else:\n",
        "#         dct[_] += 1\n",
        "# dct"
      ],
      "execution_count": 0,
      "outputs": []
    },
    {
      "cell_type": "markdown",
      "metadata": {
        "id": "tnDJXmbN87Wp",
        "colab_type": "text"
      },
      "source": [
        "### Handle Ratings column"
      ]
    },
    {
      "cell_type": "code",
      "metadata": {
        "id": "URnw3soVZO3P",
        "colab_type": "code",
        "colab": {
          "base_uri": "https://localhost:8080/",
          "height": 68
        },
        "outputId": "25d2eb0e-2f70-480e-96db-94fbd1793428"
      },
      "source": [
        "df['ratings'].head(1)"
      ],
      "execution_count": 159,
      "outputs": [
        {
          "output_type": "execute_result",
          "data": {
            "text/plain": [
              "ID\n",
              "1    [{'id': 7, 'name': 'Funny', 'count': 19645}, {...\n",
              "Name: ratings, dtype: object"
            ]
          },
          "metadata": {
            "tags": []
          },
          "execution_count": 159
        }
      ]
    },
    {
      "cell_type": "code",
      "metadata": {
        "id": "ZwLfCSXsg6rk",
        "colab_type": "code",
        "colab": {
          "base_uri": "https://localhost:8080/",
          "height": 255
        },
        "outputId": "1c059abc-351d-45b3-8a96-3f634c76d1e9"
      },
      "source": [
        "df['ratings'] = df['ratings'].apply(lambda x: eval(str(x))).head()\n",
        "df.loc[1,'ratings']"
      ],
      "execution_count": 167,
      "outputs": [
        {
          "output_type": "execute_result",
          "data": {
            "text/plain": [
              "[{'count': 19645, 'id': 7, 'name': 'Funny'},\n",
              " {'count': 4573, 'id': 1, 'name': 'Beautiful'},\n",
              " {'count': 6073, 'id': 9, 'name': 'Ingenious'},\n",
              " {'count': 3253, 'id': 3, 'name': 'Courageous'},\n",
              " {'count': 387, 'id': 11, 'name': 'Longwinded'},\n",
              " {'count': 242, 'id': 2, 'name': 'Confusing'},\n",
              " {'count': 7346, 'id': 8, 'name': 'Informative'},\n",
              " {'count': 10581, 'id': 22, 'name': 'Fascinating'},\n",
              " {'count': 300, 'id': 21, 'name': 'Unconvincing'},\n",
              " {'count': 10704, 'id': 24, 'name': 'Persuasive'},\n",
              " {'count': 4439, 'id': 23, 'name': 'Jaw-dropping'},\n",
              " {'count': 1174, 'id': 25, 'name': 'OK'},\n",
              " {'count': 209, 'id': 26, 'name': 'Obnoxious'},\n",
              " {'count': 24924, 'id': 10, 'name': 'Inspiring'}]"
            ]
          },
          "metadata": {
            "tags": []
          },
          "execution_count": 167
        }
      ]
    },
    {
      "cell_type": "code",
      "metadata": {
        "id": "RMps0t7Zmslm",
        "colab_type": "code",
        "colab": {
          "base_uri": "https://localhost:8080/",
          "height": 375
        },
        "outputId": "bf87c5f2-4439-4d4b-e294-1d01a1e342a9"
      },
      "source": [
        "def name(dict):\n",
        "  \n",
        "  rating_count = {}\n",
        "  \n",
        "  for i in len(dict):\n",
        "    if i['name'] in rating_count:\n",
        "      rating_count[i['name']] += i['count']\n",
        "    rating_count[i['name']] = i['count']\n",
        "  return rating_count\n",
        "\n",
        "df['ratings'].apply(name)"
      ],
      "execution_count": 174,
      "outputs": [
        {
          "output_type": "error",
          "ename": "TypeError",
          "evalue": "ignored",
          "traceback": [
            "\u001b[0;31m---------------------------------------------------------------------------\u001b[0m",
            "\u001b[0;31mTypeError\u001b[0m                                 Traceback (most recent call last)",
            "\u001b[0;32m<ipython-input-174-a191bac5d0bc>\u001b[0m in \u001b[0;36m<module>\u001b[0;34m()\u001b[0m\n\u001b[1;32m      9\u001b[0m   \u001b[0;32mreturn\u001b[0m \u001b[0mrating_count\u001b[0m\u001b[0;34m\u001b[0m\u001b[0;34m\u001b[0m\u001b[0m\n\u001b[1;32m     10\u001b[0m \u001b[0;34m\u001b[0m\u001b[0m\n\u001b[0;32m---> 11\u001b[0;31m \u001b[0mdf\u001b[0m\u001b[0;34m[\u001b[0m\u001b[0;34m'ratings'\u001b[0m\u001b[0;34m]\u001b[0m\u001b[0;34m.\u001b[0m\u001b[0mapply\u001b[0m\u001b[0;34m(\u001b[0m\u001b[0mname\u001b[0m\u001b[0;34m)\u001b[0m\u001b[0;34m\u001b[0m\u001b[0;34m\u001b[0m\u001b[0m\n\u001b[0m",
            "\u001b[0;32m/usr/local/lib/python3.6/dist-packages/pandas/core/series.py\u001b[0m in \u001b[0;36mapply\u001b[0;34m(self, func, convert_dtype, args, **kwds)\u001b[0m\n\u001b[1;32m   4043\u001b[0m             \u001b[0;32melse\u001b[0m\u001b[0;34m:\u001b[0m\u001b[0;34m\u001b[0m\u001b[0;34m\u001b[0m\u001b[0m\n\u001b[1;32m   4044\u001b[0m                 \u001b[0mvalues\u001b[0m \u001b[0;34m=\u001b[0m \u001b[0mself\u001b[0m\u001b[0;34m.\u001b[0m\u001b[0mastype\u001b[0m\u001b[0;34m(\u001b[0m\u001b[0mobject\u001b[0m\u001b[0;34m)\u001b[0m\u001b[0;34m.\u001b[0m\u001b[0mvalues\u001b[0m\u001b[0;34m\u001b[0m\u001b[0;34m\u001b[0m\u001b[0m\n\u001b[0;32m-> 4045\u001b[0;31m                 \u001b[0mmapped\u001b[0m \u001b[0;34m=\u001b[0m \u001b[0mlib\u001b[0m\u001b[0;34m.\u001b[0m\u001b[0mmap_infer\u001b[0m\u001b[0;34m(\u001b[0m\u001b[0mvalues\u001b[0m\u001b[0;34m,\u001b[0m \u001b[0mf\u001b[0m\u001b[0;34m,\u001b[0m \u001b[0mconvert\u001b[0m\u001b[0;34m=\u001b[0m\u001b[0mconvert_dtype\u001b[0m\u001b[0;34m)\u001b[0m\u001b[0;34m\u001b[0m\u001b[0;34m\u001b[0m\u001b[0m\n\u001b[0m\u001b[1;32m   4046\u001b[0m \u001b[0;34m\u001b[0m\u001b[0m\n\u001b[1;32m   4047\u001b[0m         \u001b[0;32mif\u001b[0m \u001b[0mlen\u001b[0m\u001b[0;34m(\u001b[0m\u001b[0mmapped\u001b[0m\u001b[0;34m)\u001b[0m \u001b[0;32mand\u001b[0m \u001b[0misinstance\u001b[0m\u001b[0;34m(\u001b[0m\u001b[0mmapped\u001b[0m\u001b[0;34m[\u001b[0m\u001b[0;36m0\u001b[0m\u001b[0;34m]\u001b[0m\u001b[0;34m,\u001b[0m \u001b[0mSeries\u001b[0m\u001b[0;34m)\u001b[0m\u001b[0;34m:\u001b[0m\u001b[0;34m\u001b[0m\u001b[0;34m\u001b[0m\u001b[0m\n",
            "\u001b[0;32mpandas/_libs/lib.pyx\u001b[0m in \u001b[0;36mpandas._libs.lib.map_infer\u001b[0;34m()\u001b[0m\n",
            "\u001b[0;32m<ipython-input-174-a191bac5d0bc>\u001b[0m in \u001b[0;36mname\u001b[0;34m(dict)\u001b[0m\n\u001b[1;32m      3\u001b[0m   \u001b[0mrating_count\u001b[0m \u001b[0;34m=\u001b[0m \u001b[0;34m{\u001b[0m\u001b[0;34m}\u001b[0m\u001b[0;34m\u001b[0m\u001b[0;34m\u001b[0m\u001b[0m\n\u001b[1;32m      4\u001b[0m \u001b[0;34m\u001b[0m\u001b[0m\n\u001b[0;32m----> 5\u001b[0;31m   \u001b[0;32mfor\u001b[0m \u001b[0mi\u001b[0m \u001b[0;32min\u001b[0m \u001b[0mlen\u001b[0m\u001b[0;34m(\u001b[0m\u001b[0mdict\u001b[0m\u001b[0;34m)\u001b[0m\u001b[0;34m:\u001b[0m\u001b[0;34m\u001b[0m\u001b[0;34m\u001b[0m\u001b[0m\n\u001b[0m\u001b[1;32m      6\u001b[0m     \u001b[0;32mif\u001b[0m \u001b[0mi\u001b[0m\u001b[0;34m[\u001b[0m\u001b[0;34m'name'\u001b[0m\u001b[0;34m]\u001b[0m \u001b[0;32min\u001b[0m \u001b[0mrating_count\u001b[0m\u001b[0;34m:\u001b[0m\u001b[0;34m\u001b[0m\u001b[0;34m\u001b[0m\u001b[0m\n\u001b[1;32m      7\u001b[0m       \u001b[0mrating_count\u001b[0m\u001b[0;34m[\u001b[0m\u001b[0mi\u001b[0m\u001b[0;34m[\u001b[0m\u001b[0;34m'name'\u001b[0m\u001b[0;34m]\u001b[0m\u001b[0;34m]\u001b[0m \u001b[0;34m+=\u001b[0m \u001b[0mi\u001b[0m\u001b[0;34m[\u001b[0m\u001b[0;34m'count'\u001b[0m\u001b[0;34m]\u001b[0m\u001b[0;34m\u001b[0m\u001b[0;34m\u001b[0m\u001b[0m\n",
            "\u001b[0;31mTypeError\u001b[0m: 'int' object is not iterable"
          ]
        }
      ]
    },
    {
      "cell_type": "code",
      "metadata": {
        "id": "JW0TlxSCj1DK",
        "colab_type": "code",
        "colab": {
          "base_uri": "https://localhost:8080/",
          "height": 54
        },
        "outputId": "947720d0-5d2b-490e-e8a0-8b54e248a091"
      },
      "source": [
        "df.loc[1,'ratings']"
      ],
      "execution_count": 166,
      "outputs": [
        {
          "output_type": "execute_result",
          "data": {
            "text/plain": [
              "\"[{'id': 7, 'name': 'Funny', 'count': 19645}, {'id': 1, 'name': 'Beautiful', 'count': 4573}, {'id': 9, 'name': 'Ingenious', 'count': 6073}, {'id': 3, 'name': 'Courageous', 'count': 3253}, {'id': 11, 'name': 'Longwinded', 'count': 387}, {'id': 2, 'name': 'Confusing', 'count': 242}, {'id': 8, 'name': 'Informative', 'count': 7346}, {'id': 22, 'name': 'Fascinating', 'count': 10581}, {'id': 21, 'name': 'Unconvincing', 'count': 300}, {'id': 24, 'name': 'Persuasive', 'count': 10704}, {'id': 23, 'name': 'Jaw-dropping', 'count': 4439}, {'id': 25, 'name': 'OK', 'count': 1174}, {'id': 26, 'name': 'Obnoxious', 'count': 209}, {'id': 10, 'name': 'Inspiring', 'count': 24924}]\""
            ]
          },
          "metadata": {
            "tags": []
          },
          "execution_count": 166
        }
      ]
    },
    {
      "cell_type": "code",
      "metadata": {
        "id": "Uy5TMr01Ytae",
        "colab_type": "code",
        "colab": {}
      },
      "source": [
        "# Turns stringified dictionary into python dictionary\n",
        "df['ratings'] = df['ratings'].apply(lambda x: eval(str(x)))\n",
        "\n",
        "counter = {'Funny':0, 'Beautiful':0, 'Ingenious':0, 'Courageous':0, 'Longwinded':0, 'Confusing':0, 'Informative':0, 'Fascinating':0, 'Unconvincing':0, 'Persuasive':0, 'Jaw-dropping':0, 'OK':0, 'Obnoxious':0, 'Inspiring':0}\n",
        "\n",
        "for i in range(len(df['ratings'])):\n",
        "    for j in range(len(df['ratings'][i])):\n",
        "        counter[df['ratings'][i][j]['name']] += df['ratings'][i][j]['count']\n",
        "    \n",
        "frequencies = list(counter.values())\n",
        "descr = counter.keys()\n",
        "descriptors = [x for _,x in sorted(zip(frequencies,counter.keys()), reverse=True)]\n",
        "neg_descriptors = {\"Confusing\", \"Unconvincing\", \"Longwinded\", \"Obnoxious\", \"OK\"}\n",
        "neg_indices  = [x for x in range (len(descriptors)) if descriptors[x] in neg_descriptors]\n",
        "frequencies.sort(reverse=True)"
      ],
      "execution_count": 0,
      "outputs": []
    },
    {
      "cell_type": "markdown",
      "metadata": {
        "id": "UoqgvqSOpX7j",
        "colab_type": "text"
      },
      "source": [
        "## Exploratory Data Analysis"
      ]
    },
    {
      "cell_type": "code",
      "metadata": {
        "id": "8FeiVB_rSEyR",
        "colab_type": "code",
        "colab": {}
      },
      "source": [
        ""
      ],
      "execution_count": 0,
      "outputs": []
    },
    {
      "cell_type": "code",
      "metadata": {
        "id": "62hYGbv9JFAr",
        "colab_type": "code",
        "colab": {}
      },
      "source": [
        ""
      ],
      "execution_count": 0,
      "outputs": []
    }
  ]
}